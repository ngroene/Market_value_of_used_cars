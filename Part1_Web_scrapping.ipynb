{
 "cells": [
  {
   "cell_type": "markdown",
   "metadata": {},
   "source": [
    "# Finding a Good Value BMW: Predicting Re-Sale Prices (notebook I)"
   ]
  },
  {
   "cell_type": "markdown",
   "metadata": {},
   "source": [
    "This is project 2 of the Metis Data Science Bootcamp in Singapore and was presented in February 2020. Main activities in the project were:\n",
    "\n",
    "1) **Scrapping of information** from BMW ads in an online marketplace for used cars in Germany using Beautiful Soup (notebook 1, see below)\n",
    "\n",
    "2) **Analysing, cleansing and pre-processing** the scrapped data (notebook 2)\n",
    "\n",
    "3) Fitting and evaluating of a  **multivariate regression model** to determine the fair market value of used BMWs based on the features such mileage, age, and CO2 emissions (notebook 3)"
   ]
  },
  {
   "cell_type": "markdown",
   "metadata": {},
   "source": [
    "## Content of notebook: Scrapping of information from 500+ online ads of used cars"
   ]
  },
  {
   "cell_type": "markdown",
   "metadata": {},
   "source": [
    "<span style=\"color: red;\"> Do not run this notebook - it will throw error messages since the website is masked! </span>\n",
    "\n",
    "The approch of web scrapping - with some customization based on the website architecture - can be applied to other websites.\n",
    "\n",
    "Notebooks 2 and 3 can be run safely since this repo also contains the scrapped data as pkl files."
   ]
  },
  {
   "cell_type": "code",
   "execution_count": 1,
   "metadata": {},
   "outputs": [],
   "source": [
    "from bs4 import BeautifulSoup\n",
    "import requests\n",
    "import time\n",
    "import random\n",
    "import pickle\n",
    "import pandas as pd"
   ]
  },
  {
   "cell_type": "markdown",
   "metadata": {},
   "source": [
    "Check T&C of website:"
   ]
  },
  {
   "cell_type": "code",
   "execution_count": 4,
   "metadata": {},
   "outputs": [
    {
     "data": {
      "text/plain": [
       "\"\\nurl_robots_tc = 'xxxxxx'\\nresponse_robots  = requests.get(url_robots_tc)\\nprint(response_robots.text)\\n\""
      ]
     },
     "execution_count": 4,
     "metadata": {},
     "output_type": "execute_result"
    }
   ],
   "source": [
    "'''\n",
    "url_robots_tc = 'xxxxxx'\n",
    "response_robots  = requests.get(url_robots_tc)\n",
    "print(response_robots.text)\n",
    "'''\n"
   ]
  },
  {
   "cell_type": "markdown",
   "metadata": {},
   "source": [
    "### From the search results page for 'BMW 116' capture the extensions that lead to the page with the details of the car "
   ]
  },
  {
   "cell_type": "markdown",
   "metadata": {},
   "source": [
    "Search for used BMW (model \"116\") cars on the website xxxxxxxx (masked here) yielded 517 results. "
   ]
  },
  {
   "cell_type": "code",
   "execution_count": 3,
   "metadata": {},
   "outputs": [],
   "source": [
    "url = 'xxx' \n",
    "response = requests.get(url)"
   ]
  },
  {
   "cell_type": "code",
   "execution_count": 4,
   "metadata": {},
   "outputs": [
    {
     "data": {
      "text/plain": [
       "200"
      ]
     },
     "execution_count": 4,
     "metadata": {},
     "output_type": "execute_result"
    }
   ],
   "source": [
    "response.status_code"
   ]
  },
  {
   "cell_type": "code",
   "execution_count": 5,
   "metadata": {},
   "outputs": [
    {
     "data": {
      "text/plain": [
       "'<!DOCTYPE html>\\n<html>\\n<head>\\n<meta charset=\"utf-8\">\\n\\n\\n<meta http-equiv=\"X-UA-Compatible\" content=\"I'"
      ]
     },
     "execution_count": 5,
     "metadata": {},
     "output_type": "execute_result"
    }
   ],
   "source": [
    "response.text[:100]"
   ]
  },
  {
   "cell_type": "code",
   "execution_count": 6,
   "metadata": {},
   "outputs": [],
   "source": [
    "page = response.text"
   ]
  },
  {
   "cell_type": "code",
   "execution_count": 7,
   "metadata": {},
   "outputs": [],
   "source": [
    "soup = BeautifulSoup(page, \"lxml\")"
   ]
  },
  {
   "cell_type": "code",
   "execution_count": 18,
   "metadata": {},
   "outputs": [],
   "source": [
    "print(soup.prettify())"
   ]
  },
  {
   "cell_type": "markdown",
   "metadata": {},
   "source": [
    "Loop through the results pages to generate a list of URL extensions that will have to be appended to the main URL ('xxx') in order to access the pages with the detailed information on the used cars.\n"
   ]
  },
  {
   "cell_type": "code",
   "execution_count": 49,
   "metadata": {},
   "outputs": [
    {
     "data": {
      "text/plain": [
       "26"
      ]
     },
     "execution_count": 49,
     "metadata": {},
     "output_type": "execute_result"
    }
   ],
   "source": [
    "number_search_results = 517\n",
    "number_results_per_page = 20\n",
    "number_of_loops = number_search_results//number_results_per_page + 1\n",
    "number_of_loops"
   ]
  },
  {
   "cell_type": "code",
   "execution_count": 50,
   "metadata": {},
   "outputs": [],
   "source": [
    "URL_extensions = []\n",
    "for i in range (0, number_of_loops):  \n",
    "    url_loop = 'xxx'+str(i) \n",
    "    user_agent = {'User-agent': 'Mozilla/5.0'}\n",
    "    response = requests.get(url_loop, headers = user_agent)\n",
    "    time.sleep(.5+2*random.random())\n",
    "    page = response.text\n",
    "    soup = BeautifulSoup(page, \"lxml\")\n",
    "    soup.find_all('div', class_ = \"gwmlistteaser clearfix\")\n",
    "    for div in soup.find_all('div', class_ = \"gwmlistteaser clearfix\"):\n",
    "        for link in div.find_all('a', class_= \"pictureblock\"):\n",
    "            URL_extensions.append(link.get(\"href\"))"
   ]
  },
  {
   "cell_type": "code",
   "execution_count": 51,
   "metadata": {},
   "outputs": [
    {
     "data": {
      "text/plain": [
       "['/details/242162/',\n",
       " '/details/578367/',\n",
       " '/details/691149/',\n",
       " '/details/229773/',\n",
       " '/details/705923/']"
      ]
     },
     "execution_count": 51,
     "metadata": {},
     "output_type": "execute_result"
    }
   ],
   "source": [
    "# Example of what has been scrapped\n",
    "URL_extensions[0:5]"
   ]
  },
  {
   "cell_type": "markdown",
   "metadata": {},
   "source": [
    "This is needed to distinguish the list from the scrapping of other models:"
   ]
  },
  {
   "cell_type": "code",
   "execution_count": 52,
   "metadata": {},
   "outputs": [],
   "source": [
    "URL_extensions_BMW116 = URL_extensions.copy()"
   ]
  },
  {
   "cell_type": "code",
   "execution_count": 54,
   "metadata": {},
   "outputs": [],
   "source": [
    "with open('pickles/URL_extensions_BMW116.pkl', 'wb') as f:\n",
    "    pickle.dump(URL_extensions_BMW116, f)"
   ]
  },
  {
   "cell_type": "markdown",
   "metadata": {},
   "source": [
    "### Generate a list of URLs from which to scrap the details on the used car"
   ]
  },
  {
   "cell_type": "code",
   "execution_count": 5,
   "metadata": {},
   "outputs": [
    {
     "data": {
      "text/plain": [
       "\"\\nimport pickle \\nbase_URL = 'xxx'\\nURL_extensions_BMW116 = pickle.load(open('pickles/URL_extensions_BMW116.pkl', 'rb'))\\nURLs_BMW116 = [base_URL+URL_extension for URL_extension in URL_extensions_BMW116]\\n\""
      ]
     },
     "execution_count": 5,
     "metadata": {},
     "output_type": "execute_result"
    }
   ],
   "source": [
    "\"\"\"\n",
    "import pickle \n",
    "base_URL = 'xxx'\n",
    "URL_extensions_BMW116 = pickle.load(open('pickles/URL_extensions_BMW116.pkl', 'rb'))\n",
    "URLs_BMW116 = [base_URL+URL_extension for URL_extension in URL_extensions_BMW116]\n",
    "\"\"\""
   ]
  },
  {
   "cell_type": "code",
   "execution_count": 56,
   "metadata": {},
   "outputs": [
    {
     "data": {
      "text/plain": [
       "517"
      ]
     },
     "execution_count": 56,
     "metadata": {},
     "output_type": "execute_result"
    }
   ],
   "source": [
    "len(URL_extensions_BMW116)"
   ]
  },
  {
   "cell_type": "code",
   "execution_count": 6,
   "metadata": {},
   "outputs": [],
   "source": [
    "#URLs_BMW116[0:5]"
   ]
  },
  {
   "cell_type": "code",
   "execution_count": 58,
   "metadata": {},
   "outputs": [
    {
     "data": {
      "text/plain": [
       "517"
      ]
     },
     "execution_count": 58,
     "metadata": {},
     "output_type": "execute_result"
    }
   ],
   "source": [
    "# When running the code twice, it might append the same extensions again to the list so there will be duplicates. \n",
    "# Therefore, to be on the safe side check if the number of captured URL extensions is the same as the unique \n",
    "# number of URL_extensions (see below).\n",
    "unique_URL_extensions_BMW116=list(dict.fromkeys(URL_extensions_BMW116))\n",
    "len(unique_URL_extensions_BMW116)"
   ]
  },
  {
   "cell_type": "code",
   "execution_count": 60,
   "metadata": {},
   "outputs": [],
   "source": [
    "# Note: the below file is not on GitHub\n",
    "with open('pickles/URLs_BMW116.pkl', 'wb') as f:\n",
    "    pickle.dump(URLs_BMW116, f)"
   ]
  },
  {
   "cell_type": "markdown",
   "metadata": {},
   "source": [
    "### Scrap information from the detail page of an advertised car ###"
   ]
  },
  {
   "cell_type": "code",
   "execution_count": 62,
   "metadata": {},
   "outputs": [],
   "source": [
    "# Two HTML strings are scrapped: Price as well as a long HTML string continaing all other information \n",
    "# (aka 'feature_lake') in the ad (the later sting will be parsed in a next step)\n",
    "\"\"\"\n",
    "pickle_steps = 180\n",
    "start_value = 0\n",
    "number_of_URLs_captured = len(URL_extensions_BMW116) # This is 517 here\n",
    "\"\"\"\n",
    "car_URL_BMW116 = []\n",
    "price_BMW116 = []\n",
    "feature_lake_BMW116 = []\n",
    "\n",
    "for i in range(0, 517, 180):   \n",
    "    URLs_sample_BMW116 = URLs_BMW116[i:i+180]\n",
    "    for detail_URL_BMW116 in URLs_sample_BMW116:\n",
    "        car_URL_BMW116.append(detail_URL_BMW116)\n",
    "        user_agent = {'User-agent': 'Mozilla/5.0'}\n",
    "        response = requests.get(detail_URL_BMW116, headers = user_agent)\n",
    "        time.sleep(1)\n",
    "        page = response.text\n",
    "        soup = BeautifulSoup(page, \"lxml\")\n",
    "        try: \n",
    "            p = soup.find('p', class_ = \"price\").text.split()[0].replace('.','')\n",
    "            price_BMW116.append(p)\n",
    "            lake_content = soup.find_all('table', class_ = \"articletable\")[0:3]\n",
    "            lake_extraction = str(lake_content)\n",
    "            feature_lake_BMW116.append(lake_extraction)                                                      \n",
    "        except:\n",
    "            price_BMW116.append(\"expired\")\n",
    "            feature_lake_BMW116.append(\"expired\")\n",
    "    time.sleep(.5+2*random.random())"
   ]
  },
  {
   "cell_type": "markdown",
   "metadata": {},
   "source": [
    "..."
   ]
  },
  {
   "cell_type": "code",
   "execution_count": 63,
   "metadata": {},
   "outputs": [
    {
     "data": {
      "text/plain": [
       "517"
      ]
     },
     "execution_count": 63,
     "metadata": {},
     "output_type": "execute_result"
    }
   ],
   "source": [
    "# Check that the information from all the ads was extracted successfully\n",
    "len(price_BMW116)\n",
    "len(feature_lake_BMW116)"
   ]
  },
  {
   "cell_type": "code",
   "execution_count": 65,
   "metadata": {},
   "outputs": [],
   "source": [
    "with open('pickles/car_URL_BMW116.pkl', 'wb') as f:\n",
    "        pickle.dump(car_URL_BMW116, f)  "
   ]
  },
  {
   "cell_type": "code",
   "execution_count": 66,
   "metadata": {},
   "outputs": [],
   "source": [
    "with open('pickles/price_BMW116.pkl', 'wb') as f:\n",
    "        pickle.dump(price_BMW116, f)  "
   ]
  },
  {
   "cell_type": "code",
   "execution_count": 67,
   "metadata": {},
   "outputs": [],
   "source": [
    "with open('pickles/feature_lake_BMW116.pkl', 'wb') as f:\n",
    "        pickle.dump(feature_lake_BMW116, f)  "
   ]
  },
  {
   "cell_type": "markdown",
   "metadata": {},
   "source": [
    "### Parse the HTML string"
   ]
  },
  {
   "cell_type": "markdown",
   "metadata": {},
   "source": [
    "Loading the pickled HTML string allowed to re-run the notebook without re-scrapping the websites which is very lengthy."
   ]
  },
  {
   "cell_type": "code",
   "execution_count": 68,
   "metadata": {},
   "outputs": [],
   "source": [
    "price_BMW116 = pickle.load(open('pickles/price_BMW116.pkl', 'rb'))"
   ]
  },
  {
   "cell_type": "code",
   "execution_count": 69,
   "metadata": {},
   "outputs": [],
   "source": [
    "feature_lake_BMW116 = pickle.load(open('pickles/feature_lake_BMW116.pkl', 'rb'))"
   ]
  },
  {
   "cell_type": "code",
   "execution_count": 70,
   "metadata": {},
   "outputs": [],
   "source": [
    "registration_date_string = []\n",
    "\n",
    "for feature in feature_lake_BMW116:\n",
    "    try:\n",
    "        regd = feature.split('\\n<td>')[2].split('</td>')[0]\n",
    "        registration_date_string.append(regd)\n",
    "    except:\n",
    "        registration_date_string.append(\"expired\")"
   ]
  },
  {
   "cell_type": "code",
   "execution_count": 71,
   "metadata": {},
   "outputs": [
    {
     "data": {
      "text/plain": [
       "517"
      ]
     },
     "execution_count": 71,
     "metadata": {},
     "output_type": "execute_result"
    }
   ],
   "source": [
    "len(registration_date_string)"
   ]
  },
  {
   "cell_type": "code",
   "execution_count": 73,
   "metadata": {},
   "outputs": [],
   "source": [
    "# unit of mileage is kilometers\n",
    "mileage_km = []\n",
    "\n",
    "for feature in feature_lake_BMW116:\n",
    "    try:\n",
    "        car_mileage = feature.split('\\n<td>')[4].split('</td>')[0].replace('.','').split()[0]\n",
    "        mileage_km.append(car_mileage)\n",
    "    except:\n",
    "        mileage_km.append(\"expired\")"
   ]
  },
  {
   "cell_type": "code",
   "execution_count": 74,
   "metadata": {},
   "outputs": [],
   "source": [
    "inspection_duedate_string = []\n",
    "\n",
    "for feature in feature_lake_BMW116:\n",
    "    try:\n",
    "        duedate = feature.split('\\n<td>')[6].split('</td>')[0]\n",
    "        inspection_duedate_string.append(duedate)\n",
    "    except:\n",
    "        inspection_duedate_string.append(\"expired\")"
   ]
  },
  {
   "cell_type": "code",
   "execution_count": 75,
   "metadata": {},
   "outputs": [
    {
     "data": {
      "text/plain": [
       "517"
      ]
     },
     "execution_count": 75,
     "metadata": {},
     "output_type": "execute_result"
    }
   ],
   "source": [
    "len(inspection_duedate_string)"
   ]
  },
  {
   "cell_type": "code",
   "execution_count": 76,
   "metadata": {},
   "outputs": [],
   "source": [
    "horse_power_ps = []\n",
    "\n",
    "for feature in feature_lake_BMW116:\n",
    "    try:\n",
    "        duedate = feature.split('\\n<td>')[8].split('(')[1].split()[0]\n",
    "        horse_power_ps.append(duedate)\n",
    "    except:\n",
    "        horse_power_ps.append(\"expired\")"
   ]
  },
  {
   "cell_type": "code",
   "execution_count": 77,
   "metadata": {},
   "outputs": [],
   "source": [
    "doors_number = []\n",
    "\n",
    "for feature in feature_lake_BMW116:\n",
    "    try:\n",
    "        doors = feature.split('\\n<td>')[12].split('</td>')[0]\n",
    "        doors_number.append(doors)\n",
    "    except:\n",
    "        doors_number.append(\"expired\")"
   ]
  },
  {
   "cell_type": "code",
   "execution_count": 78,
   "metadata": {},
   "outputs": [],
   "source": [
    "gears_type = []\n",
    "\n",
    "for feature in feature_lake_BMW116:\n",
    "    try:\n",
    "        gears = feature.split('\\n<td>')[14].split('</td>')[0]\n",
    "        gears_type.append(gears)\n",
    "    except:\n",
    "        gears_type.append(\"expired\")"
   ]
  },
  {
   "cell_type": "code",
   "execution_count": 79,
   "metadata": {},
   "outputs": [],
   "source": [
    "prior_owners = []\n",
    "\n",
    "for feature in feature_lake_BMW116:\n",
    "    try:\n",
    "        owners = feature.split('\\n<td>')[18].split('</td>')[0]\n",
    "        prior_owners.append(owners)\n",
    "    except:\n",
    "        prior_owners.append(\"expired\")"
   ]
  },
  {
   "cell_type": "code",
   "execution_count": 81,
   "metadata": {},
   "outputs": [],
   "source": [
    "colour = []\n",
    "\n",
    "for feature in feature_lake_BMW116:\n",
    "    try:\n",
    "        c = feature.split('\\n<td>')[20].split('</td>')[0]\n",
    "        colour.append(c)\n",
    "    except:\n",
    "        colour.append(\"expired\")"
   ]
  },
  {
   "cell_type": "code",
   "execution_count": 82,
   "metadata": {},
   "outputs": [],
   "source": [
    "# unit for cylinder capacity is ccm\n",
    "cylinder_capacity = []\n",
    "\n",
    "for feature in feature_lake_BMW116:\n",
    "    try:\n",
    "        cc = feature.split('\\n<td>')[22].split()[0]\n",
    "        cylinder_capacity.append(cc)\n",
    "    except:\n",
    "        cylinder_capacity.append(\"expired\")"
   ]
  },
  {
   "cell_type": "code",
   "execution_count": 83,
   "metadata": {},
   "outputs": [],
   "source": [
    "aircon = []\n",
    "\n",
    "for feature in feature_lake_BMW116:\n",
    "    try:\n",
    "        ac = feature.split('\\n<td>')[24].split('</td>')[0]\n",
    "        aircon.append(ac)\n",
    "    except:\n",
    "        aircon.append(\"expired\")"
   ]
  },
  {
   "cell_type": "code",
   "execution_count": 84,
   "metadata": {},
   "outputs": [],
   "source": [
    "fuel_type = []\n",
    "\n",
    "for feature in feature_lake_BMW116:\n",
    "    try:\n",
    "        ft = feature.split('\\n<td>')[26].split('</td>')[0]\n",
    "        fuel_type.append(ft)\n",
    "    except:\n",
    "        fuel_type.append(\"expired\")"
   ]
  },
  {
   "cell_type": "code",
   "execution_count": 85,
   "metadata": {},
   "outputs": [],
   "source": [
    "environmental_certificate = []\n",
    "\n",
    "for feature in feature_lake_BMW116:\n",
    "    try:\n",
    "        ec = feature.split('\\n<td>')[28].split('</td>')[0]\n",
    "        environmental_certificate.append(ec)\n",
    "    except:\n",
    "        environmental_certificate.append(\"expired\")"
   ]
  },
  {
   "cell_type": "code",
   "execution_count": 86,
   "metadata": {},
   "outputs": [],
   "source": [
    "emission_class = []\n",
    "\n",
    "for feature in feature_lake_BMW116:\n",
    "    try:\n",
    "        emc = feature.split('\\n<td>')[30].split('</td>')[0].replace(' ','').replace(' ','')\n",
    "        emission_class.append(emc)\n",
    "    except:\n",
    "        emission_class.append(\"expired\")"
   ]
  },
  {
   "cell_type": "code",
   "execution_count": 87,
   "metadata": {},
   "outputs": [],
   "source": [
    "# unit of Co2 emission is gramm per kilometer\n",
    "emissions = []\n",
    "\n",
    "for feature in feature_lake_BMW116:\n",
    "    try:\n",
    "        emiss = feature.split('\\n<td>')[32].split()[0]\n",
    "        emissions.append(emiss)\n",
    "    except:\n",
    "        emissions.append(\"expired\")"
   ]
  },
  {
   "cell_type": "code",
   "execution_count": 88,
   "metadata": {},
   "outputs": [],
   "source": [
    "# unit of fuel consumption is liter per 100 km; multiply by 100 to be able to remove the commas, this allows converting into float later on\n",
    "avg_fuel_cons = []\n",
    "\n",
    "for feature in feature_lake_BMW116:\n",
    "    try:\n",
    "        afc = feature.split('\\n<td>')[34].split(' ')[0].replace(',','')\n",
    "        avg_fuel_cons.append(afc)\n",
    "    except:\n",
    "        avg_fuel_cons.append(\"expired\")"
   ]
  },
  {
   "cell_type": "code",
   "execution_count": 90,
   "metadata": {},
   "outputs": [],
   "source": [
    "# unit of fuel consumption is liter per 100 km\n",
    "fuel_cons_city = []\n",
    "\n",
    "for feature in feature_lake_BMW116:\n",
    "    try:\n",
    "        fcc = feature.split('\\n<td>')[36].split(' ')[0].replace(',','')\n",
    "        fuel_cons_city.append(fcc)\n",
    "    except:\n",
    "        fuel_cons_city.append(\"expired\")"
   ]
  },
  {
   "cell_type": "code",
   "execution_count": 91,
   "metadata": {},
   "outputs": [],
   "source": [
    "# unit of fuel consumption is liter per 100 km\n",
    "fuel_cons_highway = []\n",
    "\n",
    "for feature in feature_lake_BMW116:\n",
    "    try:\n",
    "        fch = feature.split('\\n<td>')[38].split(' ')[0].replace(',','')\n",
    "        fuel_cons_highway.append(fch)\n",
    "    except:\n",
    "        fuel_cons_highway.append(\"expired\")"
   ]
  },
  {
   "cell_type": "code",
   "execution_count": 95,
   "metadata": {},
   "outputs": [
    {
     "data": {
      "text/html": [
       "<div>\n",
       "<style scoped>\n",
       "    .dataframe tbody tr th:only-of-type {\n",
       "        vertical-align: middle;\n",
       "    }\n",
       "\n",
       "    .dataframe tbody tr th {\n",
       "        vertical-align: top;\n",
       "    }\n",
       "\n",
       "    .dataframe thead th {\n",
       "        text-align: right;\n",
       "    }\n",
       "</style>\n",
       "<table border=\"1\" class=\"dataframe\">\n",
       "  <thead>\n",
       "    <tr style=\"text-align: right;\">\n",
       "      <th></th>\n",
       "      <th>price</th>\n",
       "      <th>registration_date_string</th>\n",
       "      <th>mileage_km</th>\n",
       "      <th>inspection_duedate_string</th>\n",
       "      <th>horse_power_ps</th>\n",
       "      <th>doors_number</th>\n",
       "      <th>gears_type</th>\n",
       "      <th>prior_owners</th>\n",
       "      <th>colour</th>\n",
       "      <th>cylinder_capacity</th>\n",
       "      <th>aircon</th>\n",
       "      <th>fuel_type</th>\n",
       "      <th>environmental_certificate</th>\n",
       "      <th>emission_class</th>\n",
       "      <th>emissions</th>\n",
       "      <th>avg_fuel_cons</th>\n",
       "      <th>fuel_cons_city</th>\n",
       "      <th>fuel_cons_highway</th>\n",
       "    </tr>\n",
       "  </thead>\n",
       "  <tbody>\n",
       "    <tr>\n",
       "      <td>0</td>\n",
       "      <td>9260</td>\n",
       "      <td>05/2013</td>\n",
       "      <td>123787</td>\n",
       "      <td>-</td>\n",
       "      <td>116</td>\n",
       "      <td>5</td>\n",
       "      <td>Schaltgetriebe</td>\n",
       "      <td>1</td>\n",
       "      <td>Alpinweiß(Weiß)</td>\n",
       "      <td>1995</td>\n",
       "      <td>Klimaanlage</td>\n",
       "      <td>Diesel</td>\n",
       "      <td>Grün</td>\n",
       "      <td>Euro5</td>\n",
       "      <td>109</td>\n",
       "      <td>410</td>\n",
       "      <td>510</td>\n",
       "      <td>360</td>\n",
       "    </tr>\n",
       "    <tr>\n",
       "      <td>1</td>\n",
       "      <td>9395</td>\n",
       "      <td>08/2013</td>\n",
       "      <td>127400</td>\n",
       "      <td>-</td>\n",
       "      <td>116</td>\n",
       "      <td>3</td>\n",
       "      <td>Schaltgetriebe</td>\n",
       "      <td>2</td>\n",
       "      <td>schwarz 2</td>\n",
       "      <td>1995</td>\n",
       "      <td>Klimaautomatik</td>\n",
       "      <td>Diesel</td>\n",
       "      <td>Grün</td>\n",
       "      <td>Euro5</td>\n",
       "      <td>114</td>\n",
       "      <td>430</td>\n",
       "      <td>530</td>\n",
       "      <td>380</td>\n",
       "    </tr>\n",
       "    <tr>\n",
       "      <td>2</td>\n",
       "      <td>9480</td>\n",
       "      <td>06/2012</td>\n",
       "      <td>131255</td>\n",
       "      <td>05/2021</td>\n",
       "      <td>136</td>\n",
       "      <td>5</td>\n",
       "      <td>Automatik</td>\n",
       "      <td>1</td>\n",
       "      <td>(grau) Mineralgrau</td>\n",
       "      <td>1598</td>\n",
       "      <td>Klimaanlage</td>\n",
       "      <td>Benzin</td>\n",
       "      <td>Grün</td>\n",
       "      <td>Euro5</td>\n",
       "      <td>131</td>\n",
       "      <td>560</td>\n",
       "      <td>720</td>\n",
       "      <td>470</td>\n",
       "    </tr>\n",
       "    <tr>\n",
       "      <td>3</td>\n",
       "      <td>9580</td>\n",
       "      <td>09/2014</td>\n",
       "      <td>111655</td>\n",
       "      <td>-</td>\n",
       "      <td>116</td>\n",
       "      <td>5</td>\n",
       "      <td>Schaltgetriebe</td>\n",
       "      <td>3</td>\n",
       "      <td>Schwarz (SCHWARZ 2)</td>\n",
       "      <td>1995</td>\n",
       "      <td>Klimaanlage</td>\n",
       "      <td>Diesel</td>\n",
       "      <td>Grün</td>\n",
       "      <td>Euro5</td>\n",
       "      <td>114</td>\n",
       "      <td>430</td>\n",
       "      <td>530</td>\n",
       "      <td>380</td>\n",
       "    </tr>\n",
       "    <tr>\n",
       "      <td>4</td>\n",
       "      <td>9850</td>\n",
       "      <td>06/2012</td>\n",
       "      <td>75450</td>\n",
       "      <td>10/2021</td>\n",
       "      <td>136</td>\n",
       "      <td>5</td>\n",
       "      <td>Schaltgetriebe</td>\n",
       "      <td>3</td>\n",
       "      <td>Alpinweiss (Weiss)</td>\n",
       "      <td>1598</td>\n",
       "      <td>Klimaanlage</td>\n",
       "      <td>Benzin</td>\n",
       "      <td>Grün</td>\n",
       "      <td>Euro5</td>\n",
       "      <td>129</td>\n",
       "      <td>550</td>\n",
       "      <td>710</td>\n",
       "      <td>460</td>\n",
       "    </tr>\n",
       "    <tr>\n",
       "      <td>5</td>\n",
       "      <td>9860</td>\n",
       "      <td>06/2012</td>\n",
       "      <td>98000</td>\n",
       "      <td>-</td>\n",
       "      <td>136</td>\n",
       "      <td>5</td>\n",
       "      <td>Schaltgetriebe</td>\n",
       "      <td>2</td>\n",
       "      <td>Alpinweiß(Weiß)</td>\n",
       "      <td>1598</td>\n",
       "      <td>Klimaanlage</td>\n",
       "      <td>Benzin</td>\n",
       "      <td>Grün</td>\n",
       "      <td>Euro5</td>\n",
       "      <td>125</td>\n",
       "      <td>540</td>\n",
       "      <td>700</td>\n",
       "      <td>450</td>\n",
       "    </tr>\n",
       "    <tr>\n",
       "      <td>6</td>\n",
       "      <td>9920</td>\n",
       "      <td>04/2013</td>\n",
       "      <td>100000</td>\n",
       "      <td>-</td>\n",
       "      <td>136</td>\n",
       "      <td>3</td>\n",
       "      <td>Schaltgetriebe</td>\n",
       "      <td>1</td>\n",
       "      <td>Blau (TIEFSEEBLAU METALLIC)</td>\n",
       "      <td>1598</td>\n",
       "      <td>Klimaanlage</td>\n",
       "      <td>Benzin</td>\n",
       "      <td>Grün</td>\n",
       "      <td>Euro6</td>\n",
       "      <td>125</td>\n",
       "      <td>550</td>\n",
       "      <td>720</td>\n",
       "      <td>460</td>\n",
       "    </tr>\n",
       "    <tr>\n",
       "      <td>7</td>\n",
       "      <td>9920</td>\n",
       "      <td>07/2012</td>\n",
       "      <td>94635</td>\n",
       "      <td>08/2021</td>\n",
       "      <td>136</td>\n",
       "      <td>5</td>\n",
       "      <td>Schaltgetriebe</td>\n",
       "      <td>-</td>\n",
       "      <td>schwarz / schwarz II</td>\n",
       "      <td>1598</td>\n",
       "      <td>Klimaanlage</td>\n",
       "      <td>Benzin</td>\n",
       "      <td>Grün</td>\n",
       "      <td>Euro5</td>\n",
       "      <td>130</td>\n",
       "      <td>550</td>\n",
       "      <td>710</td>\n",
       "      <td>460</td>\n",
       "    </tr>\n",
       "    <tr>\n",
       "      <td>8</td>\n",
       "      <td>9960</td>\n",
       "      <td>11/2012</td>\n",
       "      <td>82000</td>\n",
       "      <td>-</td>\n",
       "      <td>116</td>\n",
       "      <td>5</td>\n",
       "      <td>Schaltgetriebe</td>\n",
       "      <td>1</td>\n",
       "      <td>Alpinweiß(Weiß)</td>\n",
       "      <td>1598</td>\n",
       "      <td>Klimaanlage</td>\n",
       "      <td>Diesel</td>\n",
       "      <td>Grün</td>\n",
       "      <td>Euro5</td>\n",
       "      <td>99</td>\n",
       "      <td>380</td>\n",
       "      <td>440</td>\n",
       "      <td>340</td>\n",
       "    </tr>\n",
       "    <tr>\n",
       "      <td>9</td>\n",
       "      <td>9980</td>\n",
       "      <td>03/2012</td>\n",
       "      <td>81664</td>\n",
       "      <td>-</td>\n",
       "      <td>136</td>\n",
       "      <td>5</td>\n",
       "      <td>Schaltgetriebe</td>\n",
       "      <td>1</td>\n",
       "      <td>(schwarz) schwarz II</td>\n",
       "      <td>1598</td>\n",
       "      <td>Klimaautomatik</td>\n",
       "      <td>Benzin</td>\n",
       "      <td>Grün</td>\n",
       "      <td>Euro5</td>\n",
       "      <td>129</td>\n",
       "      <td>550</td>\n",
       "      <td>710</td>\n",
       "      <td>460</td>\n",
       "    </tr>\n",
       "    <tr>\n",
       "      <td>10</td>\n",
       "      <td>9980</td>\n",
       "      <td>10/2012</td>\n",
       "      <td>71200</td>\n",
       "      <td>11/2021</td>\n",
       "      <td>136</td>\n",
       "      <td>5</td>\n",
       "      <td>Schaltgetriebe</td>\n",
       "      <td>1</td>\n",
       "      <td>(blau) Midnight Blue</td>\n",
       "      <td>1598</td>\n",
       "      <td>Klimaautomatik</td>\n",
       "      <td>Benzin</td>\n",
       "      <td>Grün</td>\n",
       "      <td>Euro5</td>\n",
       "      <td>132</td>\n",
       "      <td>570</td>\n",
       "      <td>720</td>\n",
       "      <td>480</td>\n",
       "    </tr>\n",
       "    <tr>\n",
       "      <td>11</td>\n",
       "      <td>9989</td>\n",
       "      <td>07/2013</td>\n",
       "      <td>94271</td>\n",
       "      <td>-</td>\n",
       "      <td>116</td>\n",
       "      <td>5</td>\n",
       "      <td>Schaltgetriebe</td>\n",
       "      <td>1</td>\n",
       "      <td>karmesinrot</td>\n",
       "      <td>1995</td>\n",
       "      <td>Klimaanlage</td>\n",
       "      <td>Diesel</td>\n",
       "      <td>Grün</td>\n",
       "      <td>Euro5</td>\n",
       "      <td>114</td>\n",
       "      <td>430</td>\n",
       "      <td>530</td>\n",
       "      <td>380</td>\n",
       "    </tr>\n",
       "    <tr>\n",
       "      <td>12</td>\n",
       "      <td>10390</td>\n",
       "      <td>12/2012</td>\n",
       "      <td>100534</td>\n",
       "      <td>12/2019</td>\n",
       "      <td>136</td>\n",
       "      <td>5</td>\n",
       "      <td>Schaltgetriebe</td>\n",
       "      <td>2</td>\n",
       "      <td>schwarz 2</td>\n",
       "      <td>1598</td>\n",
       "      <td>Klimaanlage</td>\n",
       "      <td>Benzin</td>\n",
       "      <td>Grün</td>\n",
       "      <td>Euro5</td>\n",
       "      <td>130</td>\n",
       "      <td>550</td>\n",
       "      <td>710</td>\n",
       "      <td>460</td>\n",
       "    </tr>\n",
       "    <tr>\n",
       "      <td>13</td>\n",
       "      <td>10479</td>\n",
       "      <td>05/2014</td>\n",
       "      <td>94586</td>\n",
       "      <td>-</td>\n",
       "      <td>136</td>\n",
       "      <td>5</td>\n",
       "      <td>Schaltgetriebe</td>\n",
       "      <td>2</td>\n",
       "      <td>schwarz 2</td>\n",
       "      <td>1598</td>\n",
       "      <td>Klimaanlage</td>\n",
       "      <td>Benzin</td>\n",
       "      <td>Grün</td>\n",
       "      <td>Euro6</td>\n",
       "      <td>133</td>\n",
       "      <td>560</td>\n",
       "      <td>730</td>\n",
       "      <td>470</td>\n",
       "    </tr>\n",
       "    <tr>\n",
       "      <td>14</td>\n",
       "      <td>10490</td>\n",
       "      <td>09/2013</td>\n",
       "      <td>93879</td>\n",
       "      <td>-</td>\n",
       "      <td>136</td>\n",
       "      <td>3</td>\n",
       "      <td>Schaltgetriebe</td>\n",
       "      <td>1</td>\n",
       "      <td>(weiß) Alpinweiß uni</td>\n",
       "      <td>1598</td>\n",
       "      <td>Klimaanlage</td>\n",
       "      <td>Benzin</td>\n",
       "      <td>Grün</td>\n",
       "      <td>Euro6</td>\n",
       "      <td>125</td>\n",
       "      <td>540</td>\n",
       "      <td>700</td>\n",
       "      <td>450</td>\n",
       "    </tr>\n",
       "  </tbody>\n",
       "</table>\n",
       "</div>"
      ],
      "text/plain": [
       "    price registration_date_string mileage_km inspection_duedate_string  \\\n",
       "0    9260                  05/2013     123787                         -   \n",
       "1    9395                  08/2013     127400                         -   \n",
       "2    9480                  06/2012     131255                   05/2021   \n",
       "3    9580                  09/2014     111655                         -   \n",
       "4    9850                  06/2012      75450                   10/2021   \n",
       "5    9860                  06/2012      98000                         -   \n",
       "6    9920                  04/2013     100000                         -   \n",
       "7    9920                  07/2012      94635                   08/2021   \n",
       "8    9960                  11/2012      82000                         -   \n",
       "9    9980                  03/2012      81664                         -   \n",
       "10   9980                  10/2012      71200                   11/2021   \n",
       "11   9989                  07/2013      94271                         -   \n",
       "12  10390                  12/2012     100534                   12/2019   \n",
       "13  10479                  05/2014      94586                         -   \n",
       "14  10490                  09/2013      93879                         -   \n",
       "\n",
       "   horse_power_ps doors_number      gears_type prior_owners  \\\n",
       "0             116            5  Schaltgetriebe            1   \n",
       "1             116            3  Schaltgetriebe            2   \n",
       "2             136            5       Automatik            1   \n",
       "3             116            5  Schaltgetriebe            3   \n",
       "4             136            5  Schaltgetriebe            3   \n",
       "5             136            5  Schaltgetriebe            2   \n",
       "6             136            3  Schaltgetriebe            1   \n",
       "7             136            5  Schaltgetriebe            -   \n",
       "8             116            5  Schaltgetriebe            1   \n",
       "9             136            5  Schaltgetriebe            1   \n",
       "10            136            5  Schaltgetriebe            1   \n",
       "11            116            5  Schaltgetriebe            1   \n",
       "12            136            5  Schaltgetriebe            2   \n",
       "13            136            5  Schaltgetriebe            2   \n",
       "14            136            3  Schaltgetriebe            1   \n",
       "\n",
       "                         colour cylinder_capacity          aircon fuel_type  \\\n",
       "0               Alpinweiß(Weiß)              1995     Klimaanlage    Diesel   \n",
       "1                     schwarz 2              1995  Klimaautomatik    Diesel   \n",
       "2            (grau) Mineralgrau              1598     Klimaanlage    Benzin   \n",
       "3           Schwarz (SCHWARZ 2)              1995     Klimaanlage    Diesel   \n",
       "4            Alpinweiss (Weiss)              1598     Klimaanlage    Benzin   \n",
       "5               Alpinweiß(Weiß)              1598     Klimaanlage    Benzin   \n",
       "6   Blau (TIEFSEEBLAU METALLIC)              1598     Klimaanlage    Benzin   \n",
       "7          schwarz / schwarz II              1598     Klimaanlage    Benzin   \n",
       "8               Alpinweiß(Weiß)              1598     Klimaanlage    Diesel   \n",
       "9          (schwarz) schwarz II              1598  Klimaautomatik    Benzin   \n",
       "10         (blau) Midnight Blue              1598  Klimaautomatik    Benzin   \n",
       "11                  karmesinrot              1995     Klimaanlage    Diesel   \n",
       "12                    schwarz 2              1598     Klimaanlage    Benzin   \n",
       "13                    schwarz 2              1598     Klimaanlage    Benzin   \n",
       "14         (weiß) Alpinweiß uni              1598     Klimaanlage    Benzin   \n",
       "\n",
       "   environmental_certificate emission_class emissions avg_fuel_cons  \\\n",
       "0                       Grün          Euro5       109           410   \n",
       "1                       Grün          Euro5       114           430   \n",
       "2                       Grün          Euro5       131           560   \n",
       "3                       Grün          Euro5       114           430   \n",
       "4                       Grün          Euro5       129           550   \n",
       "5                       Grün          Euro5       125           540   \n",
       "6                       Grün          Euro6       125           550   \n",
       "7                       Grün          Euro5       130           550   \n",
       "8                       Grün          Euro5        99           380   \n",
       "9                       Grün          Euro5       129           550   \n",
       "10                      Grün          Euro5       132           570   \n",
       "11                      Grün          Euro5       114           430   \n",
       "12                      Grün          Euro5       130           550   \n",
       "13                      Grün          Euro6       133           560   \n",
       "14                      Grün          Euro6       125           540   \n",
       "\n",
       "   fuel_cons_city fuel_cons_highway  \n",
       "0             510               360  \n",
       "1             530               380  \n",
       "2             720               470  \n",
       "3             530               380  \n",
       "4             710               460  \n",
       "5             700               450  \n",
       "6             720               460  \n",
       "7             710               460  \n",
       "8             440               340  \n",
       "9             710               460  \n",
       "10            720               480  \n",
       "11            530               380  \n",
       "12            710               460  \n",
       "13            730               470  \n",
       "14            700               450  "
      ]
     },
     "execution_count": 95,
     "metadata": {},
     "output_type": "execute_result"
    }
   ],
   "source": [
    "df_raw_BMW116 = pd.DataFrame({'price': price_BMW116, 'registration_date_string': registration_date_string, 'mileage_km': mileage_km, 'inspection_duedate_string': inspection_duedate_string, 'horse_power_ps': horse_power_ps, 'doors_number':doors_number, 'gears_type':gears_type, 'prior_owners':prior_owners, 'colour':colour, 'cylinder_capacity':cylinder_capacity, 'aircon': aircon, 'fuel_type': fuel_type, 'environmental_certificate': environmental_certificate, 'emission_class': emission_class, 'emissions': emissions, 'avg_fuel_cons': avg_fuel_cons, 'fuel_cons_city': fuel_cons_city, 'fuel_cons_highway': fuel_cons_highway})\n",
    "df_raw_BMW116.head(15)  "
   ]
  },
  {
   "cell_type": "markdown",
   "metadata": {},
   "source": [
    "### Pickle dataframe with scrapped features"
   ]
  },
  {
   "cell_type": "code",
   "execution_count": 96,
   "metadata": {},
   "outputs": [],
   "source": [
    "with open('pickles/df_raw_BMW116.pkl', 'wb') as f:\n",
    "        pickle.dump(df_raw_BMW116, f) "
   ]
  }
 ],
 "metadata": {
  "kernelspec": {
   "display_name": "Python 3",
   "language": "python",
   "name": "python3"
  },
  "language_info": {
   "codemirror_mode": {
    "name": "ipython",
    "version": 3
   },
   "file_extension": ".py",
   "mimetype": "text/x-python",
   "name": "python",
   "nbconvert_exporter": "python",
   "pygments_lexer": "ipython3",
   "version": "3.8.5"
  },
  "toc": {
   "base_numbering": 1,
   "nav_menu": {},
   "number_sections": true,
   "sideBar": true,
   "skip_h1_title": true,
   "title_cell": "Table of Contents",
   "title_sidebar": "Contents",
   "toc_cell": false,
   "toc_position": {},
   "toc_section_display": true,
   "toc_window_display": true
  }
 },
 "nbformat": 4,
 "nbformat_minor": 4
}
