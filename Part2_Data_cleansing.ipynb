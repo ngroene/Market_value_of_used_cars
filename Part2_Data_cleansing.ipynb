{
 "cells": [
  {
   "cell_type": "markdown",
   "metadata": {},
   "source": [
    "# Finding a Good Value BMW: Predicting Re-Sale Prices (notebook II)"
   ]
  },
  {
   "cell_type": "markdown",
   "metadata": {},
   "source": [
    "## Content of notebook: Extrapolatory date analysis and data cleansing"
   ]
  },
  {
   "cell_type": "markdown",
   "metadata": {},
   "source": [
    "This notebook analyzes and cleanses the data that were scrapped from the used car website in part I. "
   ]
  },
  {
   "cell_type": "code",
   "execution_count": 15,
   "metadata": {},
   "outputs": [],
   "source": [
    "import pandas as pd\n",
    "import numpy as np\n",
    "import time\n",
    "import datetime\n",
    "import pickle\n",
    "import copy\n",
    "import seaborn as sns\n",
    "import matplotlib.pyplot as plt\n",
    "\n",
    "%matplotlib inline"
   ]
  },
  {
   "cell_type": "markdown",
   "metadata": {},
   "source": [
    "### Understanding the scrapped dataset"
   ]
  },
  {
   "cell_type": "markdown",
   "metadata": {},
   "source": [
    "Taking a look at the set of scrapped raw data:"
   ]
  },
  {
   "cell_type": "code",
   "execution_count": 16,
   "metadata": {},
   "outputs": [
    {
     "data": {
      "text/html": [
       "<div>\n",
       "<style scoped>\n",
       "    .dataframe tbody tr th:only-of-type {\n",
       "        vertical-align: middle;\n",
       "    }\n",
       "\n",
       "    .dataframe tbody tr th {\n",
       "        vertical-align: top;\n",
       "    }\n",
       "\n",
       "    .dataframe thead th {\n",
       "        text-align: right;\n",
       "    }\n",
       "</style>\n",
       "<table border=\"1\" class=\"dataframe\">\n",
       "  <thead>\n",
       "    <tr style=\"text-align: right;\">\n",
       "      <th></th>\n",
       "      <th>price</th>\n",
       "      <th>registration_date_string</th>\n",
       "      <th>mileage_km</th>\n",
       "      <th>inspection_duedate_string</th>\n",
       "      <th>horse_power_ps</th>\n",
       "      <th>doors_number</th>\n",
       "      <th>gears_type</th>\n",
       "      <th>prior_owners</th>\n",
       "      <th>colour</th>\n",
       "      <th>cylinder_capacity</th>\n",
       "      <th>aircon</th>\n",
       "      <th>fuel_type</th>\n",
       "      <th>environmental_certificate</th>\n",
       "      <th>emission_class</th>\n",
       "      <th>emissions</th>\n",
       "      <th>avg_fuel_cons</th>\n",
       "      <th>fuel_cons_city</th>\n",
       "      <th>fuel_cons_highway</th>\n",
       "    </tr>\n",
       "  </thead>\n",
       "  <tbody>\n",
       "    <tr>\n",
       "      <th>0</th>\n",
       "      <td>9260</td>\n",
       "      <td>05/2013</td>\n",
       "      <td>123787</td>\n",
       "      <td>-</td>\n",
       "      <td>116</td>\n",
       "      <td>5</td>\n",
       "      <td>Schaltgetriebe</td>\n",
       "      <td>1</td>\n",
       "      <td>Alpinweiß(Weiß)</td>\n",
       "      <td>1995</td>\n",
       "      <td>Klimaanlage</td>\n",
       "      <td>Diesel</td>\n",
       "      <td>Grün</td>\n",
       "      <td>Euro5</td>\n",
       "      <td>109</td>\n",
       "      <td>410</td>\n",
       "      <td>510</td>\n",
       "      <td>360</td>\n",
       "    </tr>\n",
       "    <tr>\n",
       "      <th>1</th>\n",
       "      <td>9395</td>\n",
       "      <td>08/2013</td>\n",
       "      <td>127400</td>\n",
       "      <td>-</td>\n",
       "      <td>116</td>\n",
       "      <td>3</td>\n",
       "      <td>Schaltgetriebe</td>\n",
       "      <td>2</td>\n",
       "      <td>schwarz 2</td>\n",
       "      <td>1995</td>\n",
       "      <td>Klimaautomatik</td>\n",
       "      <td>Diesel</td>\n",
       "      <td>Grün</td>\n",
       "      <td>Euro5</td>\n",
       "      <td>114</td>\n",
       "      <td>430</td>\n",
       "      <td>530</td>\n",
       "      <td>380</td>\n",
       "    </tr>\n",
       "    <tr>\n",
       "      <th>2</th>\n",
       "      <td>9480</td>\n",
       "      <td>06/2012</td>\n",
       "      <td>131255</td>\n",
       "      <td>05/2021</td>\n",
       "      <td>136</td>\n",
       "      <td>5</td>\n",
       "      <td>Automatik</td>\n",
       "      <td>1</td>\n",
       "      <td>(grau) Mineralgrau</td>\n",
       "      <td>1598</td>\n",
       "      <td>Klimaanlage</td>\n",
       "      <td>Benzin</td>\n",
       "      <td>Grün</td>\n",
       "      <td>Euro5</td>\n",
       "      <td>131</td>\n",
       "      <td>560</td>\n",
       "      <td>720</td>\n",
       "      <td>470</td>\n",
       "    </tr>\n",
       "    <tr>\n",
       "      <th>3</th>\n",
       "      <td>9580</td>\n",
       "      <td>09/2014</td>\n",
       "      <td>111655</td>\n",
       "      <td>-</td>\n",
       "      <td>116</td>\n",
       "      <td>5</td>\n",
       "      <td>Schaltgetriebe</td>\n",
       "      <td>3</td>\n",
       "      <td>Schwarz (SCHWARZ 2)</td>\n",
       "      <td>1995</td>\n",
       "      <td>Klimaanlage</td>\n",
       "      <td>Diesel</td>\n",
       "      <td>Grün</td>\n",
       "      <td>Euro5</td>\n",
       "      <td>114</td>\n",
       "      <td>430</td>\n",
       "      <td>530</td>\n",
       "      <td>380</td>\n",
       "    </tr>\n",
       "    <tr>\n",
       "      <th>4</th>\n",
       "      <td>9850</td>\n",
       "      <td>06/2012</td>\n",
       "      <td>75450</td>\n",
       "      <td>10/2021</td>\n",
       "      <td>136</td>\n",
       "      <td>5</td>\n",
       "      <td>Schaltgetriebe</td>\n",
       "      <td>3</td>\n",
       "      <td>Alpinweiss (Weiss)</td>\n",
       "      <td>1598</td>\n",
       "      <td>Klimaanlage</td>\n",
       "      <td>Benzin</td>\n",
       "      <td>Grün</td>\n",
       "      <td>Euro5</td>\n",
       "      <td>129</td>\n",
       "      <td>550</td>\n",
       "      <td>710</td>\n",
       "      <td>460</td>\n",
       "    </tr>\n",
       "  </tbody>\n",
       "</table>\n",
       "</div>"
      ],
      "text/plain": [
       "  price registration_date_string mileage_km inspection_duedate_string  \\\n",
       "0  9260                  05/2013     123787                         -   \n",
       "1  9395                  08/2013     127400                         -   \n",
       "2  9480                  06/2012     131255                   05/2021   \n",
       "3  9580                  09/2014     111655                         -   \n",
       "4  9850                  06/2012      75450                   10/2021   \n",
       "\n",
       "  horse_power_ps doors_number      gears_type prior_owners  \\\n",
       "0            116            5  Schaltgetriebe            1   \n",
       "1            116            3  Schaltgetriebe            2   \n",
       "2            136            5       Automatik            1   \n",
       "3            116            5  Schaltgetriebe            3   \n",
       "4            136            5  Schaltgetriebe            3   \n",
       "\n",
       "                colour cylinder_capacity          aircon fuel_type  \\\n",
       "0      Alpinweiß(Weiß)              1995     Klimaanlage    Diesel   \n",
       "1            schwarz 2              1995  Klimaautomatik    Diesel   \n",
       "2   (grau) Mineralgrau              1598     Klimaanlage    Benzin   \n",
       "3  Schwarz (SCHWARZ 2)              1995     Klimaanlage    Diesel   \n",
       "4   Alpinweiss (Weiss)              1598     Klimaanlage    Benzin   \n",
       "\n",
       "  environmental_certificate emission_class emissions avg_fuel_cons  \\\n",
       "0                      Grün          Euro5       109           410   \n",
       "1                      Grün          Euro5       114           430   \n",
       "2                      Grün          Euro5       131           560   \n",
       "3                      Grün          Euro5       114           430   \n",
       "4                      Grün          Euro5       129           550   \n",
       "\n",
       "  fuel_cons_city fuel_cons_highway  \n",
       "0            510               360  \n",
       "1            530               380  \n",
       "2            720               470  \n",
       "3            530               380  \n",
       "4            710               460  "
      ]
     },
     "execution_count": 16,
     "metadata": {},
     "output_type": "execute_result"
    }
   ],
   "source": [
    "df_raw = pickle.load(open('pickles/df_raw_BMW116.pkl', 'rb'))\n",
    "df_raw.head()"
   ]
  },
  {
   "cell_type": "code",
   "execution_count": 17,
   "metadata": {},
   "outputs": [
    {
     "data": {
      "text/plain": [
       "Index(['price', 'registration_date_string', 'mileage_km',\n",
       "       'inspection_duedate_string', 'horse_power_ps', 'doors_number',\n",
       "       'gears_type', 'prior_owners', 'colour', 'cylinder_capacity', 'aircon',\n",
       "       'fuel_type', 'environmental_certificate', 'emission_class', 'emissions',\n",
       "       'avg_fuel_cons', 'fuel_cons_city', 'fuel_cons_highway'],\n",
       "      dtype='object')"
      ]
     },
     "execution_count": 17,
     "metadata": {},
     "output_type": "execute_result"
    }
   ],
   "source": [
    "df_raw.columns"
   ]
  },
  {
   "cell_type": "code",
   "execution_count": 18,
   "metadata": {},
   "outputs": [
    {
     "data": {
      "text/plain": [
       "(517, 18)"
      ]
     },
     "execution_count": 18,
     "metadata": {},
     "output_type": "execute_result"
    }
   ],
   "source": [
    "df_raw.shape"
   ]
  },
  {
   "cell_type": "code",
   "execution_count": 19,
   "metadata": {},
   "outputs": [
    {
     "name": "stdout",
     "output_type": "stream",
     "text": [
      "<class 'pandas.core.frame.DataFrame'>\n",
      "RangeIndex: 517 entries, 0 to 516\n",
      "Data columns (total 18 columns):\n",
      " #   Column                     Non-Null Count  Dtype \n",
      "---  ------                     --------------  ----- \n",
      " 0   price                      517 non-null    object\n",
      " 1   registration_date_string   517 non-null    object\n",
      " 2   mileage_km                 517 non-null    object\n",
      " 3   inspection_duedate_string  517 non-null    object\n",
      " 4   horse_power_ps             517 non-null    object\n",
      " 5   doors_number               517 non-null    object\n",
      " 6   gears_type                 517 non-null    object\n",
      " 7   prior_owners               517 non-null    object\n",
      " 8   colour                     517 non-null    object\n",
      " 9   cylinder_capacity          517 non-null    object\n",
      " 10  aircon                     517 non-null    object\n",
      " 11  fuel_type                  517 non-null    object\n",
      " 12  environmental_certificate  517 non-null    object\n",
      " 13  emission_class             517 non-null    object\n",
      " 14  emissions                  517 non-null    object\n",
      " 15  avg_fuel_cons              517 non-null    object\n",
      " 16  fuel_cons_city             517 non-null    object\n",
      " 17  fuel_cons_highway          517 non-null    object\n",
      "dtypes: object(18)\n",
      "memory usage: 72.8+ KB\n"
     ]
    }
   ],
   "source": [
    "df_raw.info()"
   ]
  },
  {
   "cell_type": "markdown",
   "metadata": {},
   "source": [
    "### Cleansing the dataset"
   ]
  },
  {
   "cell_type": "markdown",
   "metadata": {},
   "source": [
    "#### Removing rows with expired ads"
   ]
  },
  {
   "cell_type": "code",
   "execution_count": 20,
   "metadata": {},
   "outputs": [
    {
     "data": {
      "text/html": [
       "<div>\n",
       "<style scoped>\n",
       "    .dataframe tbody tr th:only-of-type {\n",
       "        vertical-align: middle;\n",
       "    }\n",
       "\n",
       "    .dataframe tbody tr th {\n",
       "        vertical-align: top;\n",
       "    }\n",
       "\n",
       "    .dataframe thead th {\n",
       "        text-align: right;\n",
       "    }\n",
       "</style>\n",
       "<table border=\"1\" class=\"dataframe\">\n",
       "  <thead>\n",
       "    <tr style=\"text-align: right;\">\n",
       "      <th></th>\n",
       "      <th>price</th>\n",
       "      <th>registration_date_string</th>\n",
       "      <th>mileage_km</th>\n",
       "      <th>inspection_duedate_string</th>\n",
       "      <th>horse_power_ps</th>\n",
       "      <th>doors_number</th>\n",
       "      <th>gears_type</th>\n",
       "      <th>prior_owners</th>\n",
       "      <th>colour</th>\n",
       "      <th>cylinder_capacity</th>\n",
       "      <th>aircon</th>\n",
       "      <th>fuel_type</th>\n",
       "      <th>environmental_certificate</th>\n",
       "      <th>emission_class</th>\n",
       "      <th>emissions</th>\n",
       "      <th>avg_fuel_cons</th>\n",
       "      <th>fuel_cons_city</th>\n",
       "      <th>fuel_cons_highway</th>\n",
       "    </tr>\n",
       "  </thead>\n",
       "  <tbody>\n",
       "    <tr>\n",
       "      <th>0</th>\n",
       "      <td>9260</td>\n",
       "      <td>05/2013</td>\n",
       "      <td>123787</td>\n",
       "      <td>-</td>\n",
       "      <td>116</td>\n",
       "      <td>5</td>\n",
       "      <td>Schaltgetriebe</td>\n",
       "      <td>1</td>\n",
       "      <td>Alpinweiß(Weiß)</td>\n",
       "      <td>1995</td>\n",
       "      <td>Klimaanlage</td>\n",
       "      <td>Diesel</td>\n",
       "      <td>Grün</td>\n",
       "      <td>Euro5</td>\n",
       "      <td>109</td>\n",
       "      <td>410</td>\n",
       "      <td>510</td>\n",
       "      <td>360</td>\n",
       "    </tr>\n",
       "    <tr>\n",
       "      <th>1</th>\n",
       "      <td>9395</td>\n",
       "      <td>08/2013</td>\n",
       "      <td>127400</td>\n",
       "      <td>-</td>\n",
       "      <td>116</td>\n",
       "      <td>3</td>\n",
       "      <td>Schaltgetriebe</td>\n",
       "      <td>2</td>\n",
       "      <td>schwarz 2</td>\n",
       "      <td>1995</td>\n",
       "      <td>Klimaautomatik</td>\n",
       "      <td>Diesel</td>\n",
       "      <td>Grün</td>\n",
       "      <td>Euro5</td>\n",
       "      <td>114</td>\n",
       "      <td>430</td>\n",
       "      <td>530</td>\n",
       "      <td>380</td>\n",
       "    </tr>\n",
       "    <tr>\n",
       "      <th>2</th>\n",
       "      <td>9480</td>\n",
       "      <td>06/2012</td>\n",
       "      <td>131255</td>\n",
       "      <td>05/2021</td>\n",
       "      <td>136</td>\n",
       "      <td>5</td>\n",
       "      <td>Automatik</td>\n",
       "      <td>1</td>\n",
       "      <td>(grau) Mineralgrau</td>\n",
       "      <td>1598</td>\n",
       "      <td>Klimaanlage</td>\n",
       "      <td>Benzin</td>\n",
       "      <td>Grün</td>\n",
       "      <td>Euro5</td>\n",
       "      <td>131</td>\n",
       "      <td>560</td>\n",
       "      <td>720</td>\n",
       "      <td>470</td>\n",
       "    </tr>\n",
       "    <tr>\n",
       "      <th>3</th>\n",
       "      <td>9580</td>\n",
       "      <td>09/2014</td>\n",
       "      <td>111655</td>\n",
       "      <td>-</td>\n",
       "      <td>116</td>\n",
       "      <td>5</td>\n",
       "      <td>Schaltgetriebe</td>\n",
       "      <td>3</td>\n",
       "      <td>Schwarz (SCHWARZ 2)</td>\n",
       "      <td>1995</td>\n",
       "      <td>Klimaanlage</td>\n",
       "      <td>Diesel</td>\n",
       "      <td>Grün</td>\n",
       "      <td>Euro5</td>\n",
       "      <td>114</td>\n",
       "      <td>430</td>\n",
       "      <td>530</td>\n",
       "      <td>380</td>\n",
       "    </tr>\n",
       "    <tr>\n",
       "      <th>4</th>\n",
       "      <td>9850</td>\n",
       "      <td>06/2012</td>\n",
       "      <td>75450</td>\n",
       "      <td>10/2021</td>\n",
       "      <td>136</td>\n",
       "      <td>5</td>\n",
       "      <td>Schaltgetriebe</td>\n",
       "      <td>3</td>\n",
       "      <td>Alpinweiss (Weiss)</td>\n",
       "      <td>1598</td>\n",
       "      <td>Klimaanlage</td>\n",
       "      <td>Benzin</td>\n",
       "      <td>Grün</td>\n",
       "      <td>Euro5</td>\n",
       "      <td>129</td>\n",
       "      <td>550</td>\n",
       "      <td>710</td>\n",
       "      <td>460</td>\n",
       "    </tr>\n",
       "  </tbody>\n",
       "</table>\n",
       "</div>"
      ],
      "text/plain": [
       "  price registration_date_string mileage_km inspection_duedate_string  \\\n",
       "0  9260                  05/2013     123787                         -   \n",
       "1  9395                  08/2013     127400                         -   \n",
       "2  9480                  06/2012     131255                   05/2021   \n",
       "3  9580                  09/2014     111655                         -   \n",
       "4  9850                  06/2012      75450                   10/2021   \n",
       "\n",
       "  horse_power_ps doors_number      gears_type prior_owners  \\\n",
       "0            116            5  Schaltgetriebe            1   \n",
       "1            116            3  Schaltgetriebe            2   \n",
       "2            136            5       Automatik            1   \n",
       "3            116            5  Schaltgetriebe            3   \n",
       "4            136            5  Schaltgetriebe            3   \n",
       "\n",
       "                colour cylinder_capacity          aircon fuel_type  \\\n",
       "0      Alpinweiß(Weiß)              1995     Klimaanlage    Diesel   \n",
       "1            schwarz 2              1995  Klimaautomatik    Diesel   \n",
       "2   (grau) Mineralgrau              1598     Klimaanlage    Benzin   \n",
       "3  Schwarz (SCHWARZ 2)              1995     Klimaanlage    Diesel   \n",
       "4   Alpinweiss (Weiss)              1598     Klimaanlage    Benzin   \n",
       "\n",
       "  environmental_certificate emission_class emissions avg_fuel_cons  \\\n",
       "0                      Grün          Euro5       109           410   \n",
       "1                      Grün          Euro5       114           430   \n",
       "2                      Grün          Euro5       131           560   \n",
       "3                      Grün          Euro5       114           430   \n",
       "4                      Grün          Euro5       129           550   \n",
       "\n",
       "  fuel_cons_city fuel_cons_highway  \n",
       "0            510               360  \n",
       "1            530               380  \n",
       "2            720               470  \n",
       "3            530               380  \n",
       "4            710               460  "
      ]
     },
     "execution_count": 20,
     "metadata": {},
     "output_type": "execute_result"
    }
   ],
   "source": [
    "df_filtered = df_raw.loc[df_raw['mileage_km'] != 'expired'].copy()\n",
    "df_filtered.head()"
   ]
  },
  {
   "cell_type": "markdown",
   "metadata": {},
   "source": [
    "#### Setting the right variable format"
   ]
  },
  {
   "cell_type": "markdown",
   "metadata": {},
   "source": [
    "Convert strings into numerical variables for price, mileage, horse power, number doors, prior owners, cylinder capacity, ... "
   ]
  },
  {
   "cell_type": "code",
   "execution_count": 21,
   "metadata": {},
   "outputs": [],
   "source": [
    "# Note: doors_number will intentionally be considered a categorical variable\n",
    "variables_to_integers = ['price', 'mileage_km', 'horse_power_ps', 'prior_owners', 'cylinder_capacity', 'emissions', 'avg_fuel_cons', 'fuel_cons_city', 'fuel_cons_highway']\n",
    "\n",
    "for variable in variables_to_integers:\n",
    "    df_filtered[variable] = pd.to_numeric(df_filtered[variable],errors='coerce')"
   ]
  },
  {
   "cell_type": "code",
   "execution_count": 22,
   "metadata": {},
   "outputs": [],
   "source": [
    "# The three variables related to fuel consumption still need to be divided by 100 to offest removal of comma during data scrapping\n",
    "variables_to_divide = ['avg_fuel_cons', 'fuel_cons_city', 'fuel_cons_highway']\n",
    "\n",
    "for variable in variables_to_divide:\n",
    "    df_filtered[variable] = pd.to_numeric(df_filtered[variable], errors='coerce').div(100)"
   ]
  },
  {
   "cell_type": "markdown",
   "metadata": {},
   "source": [
    "#### Replacing missing values"
   ]
  },
  {
   "cell_type": "markdown",
   "metadata": {},
   "source": [
    "##### Metric variables: Replace with feature mean"
   ]
  },
  {
   "cell_type": "markdown",
   "metadata": {},
   "source": [
    "<span style=\"color: red;\"> Metric variables: Replace with feature mean </span>\n",
    "\n",
    "\n"
   ]
  },
  {
   "cell_type": "code",
   "execution_count": 23,
   "metadata": {},
   "outputs": [],
   "source": [
    "objects_to_mean = ['cylinder_capacity', 'emissions', 'avg_fuel_cons', 'fuel_cons_city', 'fuel_cons_highway']\n",
    "\n",
    "for object in objects_to_mean:\n",
    "    df_filtered[object]=df_filtered[object].replace(np.nan, df_filtered[object].mean())"
   ]
  },
  {
   "cell_type": "markdown",
   "metadata": {},
   "source": [
    "##### Categorical variables: Identify suitable replacement value"
   ]
  },
  {
   "cell_type": "code",
   "execution_count": 24,
   "metadata": {},
   "outputs": [
    {
     "data": {
      "text/plain": [
       "['registration_date_string',\n",
       " 'inspection_duedate_string',\n",
       " 'doors_number',\n",
       " 'gears_type',\n",
       " 'colour',\n",
       " 'aircon',\n",
       " 'fuel_type',\n",
       " 'environmental_certificate',\n",
       " 'emission_class']"
      ]
     },
     "execution_count": 24,
     "metadata": {},
     "output_type": "execute_result"
    }
   ],
   "source": [
    "# overview of categorical variables\n",
    "list(df_filtered.select_dtypes(include='object').columns)"
   ]
  },
  {
   "cell_type": "markdown",
   "metadata": {},
   "source": [
    "**Feature: Number of doors:**"
   ]
  },
  {
   "cell_type": "code",
   "execution_count": 25,
   "metadata": {},
   "outputs": [
    {
     "data": {
      "text/plain": [
       "5    429\n",
       "3     43\n",
       "-     34\n",
       "4      8\n",
       "2      3\n",
       "Name: doors_number, dtype: int64"
      ]
     },
     "execution_count": 25,
     "metadata": {},
     "output_type": "execute_result"
    }
   ],
   "source": [
    "df_filtered.doors_number.value_counts()"
   ]
  },
  {
   "cell_type": "code",
   "execution_count": 26,
   "metadata": {},
   "outputs": [],
   "source": [
    "mode_number_doors = df_filtered.doors_number.mode()[0]"
   ]
  },
  {
   "cell_type": "code",
   "execution_count": 27,
   "metadata": {},
   "outputs": [],
   "source": [
    "# Replace missing values with mode\n",
    "df_filtered.doors_number.replace(np.nan, mode_number_doors, inplace=True)\n",
    "df_filtered.doors_number.replace('-', mode_number_doors, inplace=True)"
   ]
  },
  {
   "cell_type": "markdown",
   "metadata": {},
   "source": [
    "*Further observation: The ads showing 2 or 4 doos must be a mistake since in Germany, the convention is to count the trunk as a door. So for all ads that display 2 doors, the value will be set to 3 doors (and 5 instead of 4). Furthermore, the '-' door will be set to 5.*"
   ]
  },
  {
   "cell_type": "code",
   "execution_count": 28,
   "metadata": {},
   "outputs": [],
   "source": [
    "df_filtered.doors_number.replace('2','3', inplace=True)"
   ]
  },
  {
   "cell_type": "code",
   "execution_count": 29,
   "metadata": {},
   "outputs": [],
   "source": [
    "df_filtered.doors_number.replace('4','5', inplace=True)"
   ]
  },
  {
   "cell_type": "markdown",
   "metadata": {},
   "source": [
    "**Feature: Prior owners**"
   ]
  },
  {
   "cell_type": "code",
   "execution_count": 30,
   "metadata": {},
   "outputs": [
    {
     "name": "stdout",
     "output_type": "stream",
     "text": [
      "0    1.0\n",
      "dtype: float64\n"
     ]
    }
   ],
   "source": [
    "print(df_filtered.prior_owners.mode())"
   ]
  },
  {
   "cell_type": "code",
   "execution_count": 31,
   "metadata": {},
   "outputs": [],
   "source": [
    "df_filtered.prior_owners.replace(np.nan, 1,inplace=True)"
   ]
  },
  {
   "cell_type": "markdown",
   "metadata": {},
   "source": [
    "**Feature: Gears**"
   ]
  },
  {
   "cell_type": "code",
   "execution_count": 32,
   "metadata": {},
   "outputs": [
    {
     "data": {
      "text/plain": [
       "Schaltgetriebe    459\n",
       "Automatik          57\n",
       "-                   1\n",
       "Name: gears_type, dtype: int64"
      ]
     },
     "execution_count": 32,
     "metadata": {},
     "output_type": "execute_result"
    }
   ],
   "source": [
    "# repalce with mode\n",
    "df_filtered.gears_type.value_counts()"
   ]
  },
  {
   "cell_type": "code",
   "execution_count": 33,
   "metadata": {},
   "outputs": [],
   "source": [
    "df_filtered.gears_type.replace(np.nan, 'Schaltgetriebe', inplace=True)\n",
    "df_filtered.gears_type.replace('-','Schaltgetriebe', inplace=True)"
   ]
  },
  {
   "cell_type": "markdown",
   "metadata": {},
   "source": [
    "**Feature: Color**"
   ]
  },
  {
   "cell_type": "code",
   "execution_count": 34,
   "metadata": {},
   "outputs": [
    {
     "data": {
      "text/plain": [
       "269"
      ]
     },
     "execution_count": 34,
     "metadata": {},
     "output_type": "execute_result"
    }
   ],
   "source": [
    "df_filtered.colour.value_counts().head(10).sum()"
   ]
  },
  {
   "cell_type": "code",
   "execution_count": 35,
   "metadata": {},
   "outputs": [
    {
     "data": {
      "text/plain": [
       "126"
      ]
     },
     "execution_count": 35,
     "metadata": {},
     "output_type": "execute_result"
    }
   ],
   "source": [
    "df_filtered['colour'].nunique()"
   ]
  },
  {
   "cell_type": "markdown",
   "metadata": {},
   "source": [
    "It seems that there is no convention on how to name the colour of the cars. Within 517 ads, there are 126 unique colours. The top 10 colours appear in 269 ads, representing only about a fourth of all ads.\n",
    "\n",
    "For the MVP, the colour will not be included as a feature. It might still be added on later on - after grouping the colors in a meaningful way."
   ]
  },
  {
   "cell_type": "markdown",
   "metadata": {},
   "source": [
    "**Feature: aircon**"
   ]
  },
  {
   "cell_type": "code",
   "execution_count": 36,
   "metadata": {},
   "outputs": [
    {
     "data": {
      "text/plain": [
       "Klimaautomatik    392\n",
       "Klimaanlage        83\n",
       "Keine              42\n",
       "Name: aircon, dtype: int64"
      ]
     },
     "execution_count": 36,
     "metadata": {},
     "output_type": "execute_result"
    }
   ],
   "source": [
    "df_filtered.aircon.value_counts()"
   ]
  },
  {
   "cell_type": "markdown",
   "metadata": {},
   "source": [
    "**Feature: Fuel type**"
   ]
  },
  {
   "cell_type": "code",
   "execution_count": 37,
   "metadata": {},
   "outputs": [
    {
     "data": {
      "text/plain": [
       "Benzin    310\n",
       "Diesel    206\n",
       "-           1\n",
       "Name: fuel_type, dtype: int64"
      ]
     },
     "execution_count": 37,
     "metadata": {},
     "output_type": "execute_result"
    }
   ],
   "source": [
    "df_filtered.fuel_type.value_counts()\n",
    "# need to deal with missing values"
   ]
  },
  {
   "cell_type": "code",
   "execution_count": 38,
   "metadata": {},
   "outputs": [],
   "source": [
    "df_filtered.fuel_type.replace('-','Benzin', inplace=True)"
   ]
  },
  {
   "cell_type": "markdown",
   "metadata": {},
   "source": [
    "**Feature: Environmental certificate**"
   ]
  },
  {
   "cell_type": "code",
   "execution_count": 39,
   "metadata": {},
   "outputs": [
    {
     "data": {
      "text/plain": [
       "Grün    454\n",
       "-        63\n",
       "Name: environmental_certificate, dtype: int64"
      ]
     },
     "execution_count": 39,
     "metadata": {},
     "output_type": "execute_result"
    }
   ],
   "source": [
    "df_filtered.environmental_certificate.value_counts()\n",
    "# need to deal with missing values"
   ]
  },
  {
   "cell_type": "code",
   "execution_count": 40,
   "metadata": {},
   "outputs": [],
   "source": [
    "df_filtered.environmental_certificate.replace('-','Not_mentioned', inplace=True)"
   ]
  },
  {
   "cell_type": "markdown",
   "metadata": {},
   "source": [
    "**Feature: Emission class**"
   ]
  },
  {
   "cell_type": "code",
   "execution_count": 41,
   "metadata": {},
   "outputs": [
    {
     "data": {
      "text/plain": [
       "Euro6    421\n",
       "Euro5     51\n",
       "-         45\n",
       "Name: emission_class, dtype: int64"
      ]
     },
     "execution_count": 41,
     "metadata": {},
     "output_type": "execute_result"
    }
   ],
   "source": [
    "df_filtered.emission_class.value_counts()"
   ]
  },
  {
   "cell_type": "code",
   "execution_count": 42,
   "metadata": {},
   "outputs": [],
   "source": [
    "# Assumption is that if emission class is not mentioned, it is probably the worse one\n",
    "df_filtered.emission_class.replace('-','Euro5', inplace=True)"
   ]
  },
  {
   "cell_type": "markdown",
   "metadata": {},
   "source": [
    "#### Convert time related variables"
   ]
  },
  {
   "cell_type": "markdown",
   "metadata": {},
   "source": [
    "The variables **registration_date_string** and **inspection_duedate_string** still need to be converted from a string into dates in order to then **calculate the age of the car** and the **years until next mandatory inspection** respectively."
   ]
  },
  {
   "cell_type": "markdown",
   "metadata": {},
   "source": [
    "##### Age of car"
   ]
  },
  {
   "cell_type": "markdown",
   "metadata": {},
   "source": [
    "**Replace missing values of 'registration_date':**"
   ]
  },
  {
   "cell_type": "code",
   "execution_count": 43,
   "metadata": {},
   "outputs": [
    {
     "name": "stdout",
     "output_type": "stream",
     "text": [
      "Most frequent registration dates: 12/2016\n",
      "12/2016    59\n",
      "11/2016    50\n",
      "09/2016    33\n",
      "01/2017    28\n",
      "08/2016    24\n",
      "           ..\n",
      "06/2015     1\n",
      "08/2017     1\n",
      "01/2014     1\n",
      "10/2017     1\n",
      "12/2014     1\n",
      "Name: registration_date_string, Length: 81, dtype: int64\n"
     ]
    }
   ],
   "source": [
    "print(\"Most frequent registration dates: {}\".format(df_filtered['registration_date_string'].value_counts().idxmax())) \n",
    "print(df_filtered.registration_date_string.value_counts())"
   ]
  },
  {
   "cell_type": "code",
   "execution_count": 44,
   "metadata": {},
   "outputs": [
    {
     "data": {
      "text/plain": [
       "<AxesSubplot:>"
      ]
     },
     "execution_count": 44,
     "metadata": {},
     "output_type": "execute_result"
    },
    {
     "data": {
      "image/png": "[encoded data removed]",
      "text/plain": [
       "<Figure size 1296x144 with 1 Axes>"
      ]
     },
     "metadata": {
      "needs_background": "light"
     },
     "output_type": "display_data"
    }
   ],
   "source": [
    "plt.figure(figsize = [18,2])\n",
    "df_filtered['registration_date_string'].value_counts().plot(kind='bar')\n",
    "# This is not so meaningful because the dates are not properly sorted"
   ]
  },
  {
   "cell_type": "code",
   "execution_count": 45,
   "metadata": {},
   "outputs": [],
   "source": [
    "df_filtered.registration_date_string.replace('-','12/2016', inplace=True)"
   ]
  },
  {
   "cell_type": "markdown",
   "metadata": {},
   "source": [
    "**Convert 'registration_date' to datetime:**"
   ]
  },
  {
   "cell_type": "code",
   "execution_count": 46,
   "metadata": {},
   "outputs": [],
   "source": [
    "df_filtered['registration_date'] = df_filtered['registration_date_string'].map(lambda x: datetime.datetime.strptime(x, \"%m/%Y\"))"
   ]
  },
  {
   "cell_type": "code",
   "execution_count": 47,
   "metadata": {},
   "outputs": [
    {
     "data": {
      "text/plain": [
       "pandas._libs.tslibs.timestamps.Timestamp"
      ]
     },
     "execution_count": 47,
     "metadata": {},
     "output_type": "execute_result"
    }
   ],
   "source": [
    "# Double check that registration_date is now in datetime format\n",
    "type(df_filtered.registration_date[0])"
   ]
  },
  {
   "cell_type": "markdown",
   "metadata": {},
   "source": [
    "**Calculate 'car_age':**"
   ]
  },
  {
   "cell_type": "code",
   "execution_count": 48,
   "metadata": {},
   "outputs": [],
   "source": [
    "# Care age is time when data was scrapped - registration date\n",
    "df_filtered['time_of_scrapping']= datetime.datetime(2020,2,1)"
   ]
  },
  {
   "cell_type": "code",
   "execution_count": 49,
   "metadata": {},
   "outputs": [],
   "source": [
    "df_filtered['car_age'] = df_filtered['time_of_scrapping'] - df_filtered.registration_date"
   ]
  },
  {
   "cell_type": "code",
   "execution_count": 50,
   "metadata": {},
   "outputs": [],
   "source": [
    "df_filtered['car_age'] = df_filtered['car_age'].map(lambda x: x.days)/365.25"
   ]
  },
  {
   "cell_type": "code",
   "execution_count": 51,
   "metadata": {},
   "outputs": [],
   "source": [
    "# Time of scrapping is no longer needed\n",
    "del df_filtered['time_of_scrapping']"
   ]
  },
  {
   "cell_type": "markdown",
   "metadata": {},
   "source": [
    "##### Next inspection date"
   ]
  },
  {
   "cell_type": "code",
   "execution_count": 52,
   "metadata": {
    "scrolled": true
   },
   "outputs": [
    {
     "name": "stdout",
     "output_type": "stream",
     "text": [
      "Most frequent inspection due dates: -\n"
     ]
    }
   ],
   "source": [
    "print(\"Most frequent inspection due dates: {}\".format(df_filtered['inspection_duedate_string'].value_counts().idxmax())) "
   ]
  },
  {
   "cell_type": "code",
   "execution_count": 53,
   "metadata": {},
   "outputs": [
    {
     "data": {
      "text/plain": [
       "<AxesSubplot:>"
      ]
     },
     "execution_count": 53,
     "metadata": {},
     "output_type": "execute_result"
    },
    {
     "data": {
      "image/png": "[encoded data removed]",
      "text/plain": [
       "<Figure size 432x288 with 1 Axes>"
      ]
     },
     "metadata": {
      "needs_background": "light"
     },
     "output_type": "display_data"
    }
   ],
   "source": [
    "df_filtered.inspection_duedate_string.value_counts().plot(kind='bar')"
   ]
  },
  {
   "cell_type": "markdown",
   "metadata": {},
   "source": [
    "**Conclusion:** The next inspection due date is a missing value in the majority of adds. Therefore, it will be excluded from the model."
   ]
  },
  {
   "cell_type": "markdown",
   "metadata": {},
   "source": [
    "### Analyze and replace outliers "
   ]
  },
  {
   "cell_type": "code",
   "execution_count": 54,
   "metadata": {},
   "outputs": [
    {
     "data": {
      "text/html": [
       "<div>\n",
       "<style scoped>\n",
       "    .dataframe tbody tr th:only-of-type {\n",
       "        vertical-align: middle;\n",
       "    }\n",
       "\n",
       "    .dataframe tbody tr th {\n",
       "        vertical-align: top;\n",
       "    }\n",
       "\n",
       "    .dataframe thead th {\n",
       "        text-align: right;\n",
       "    }\n",
       "</style>\n",
       "<table border=\"1\" class=\"dataframe\">\n",
       "  <thead>\n",
       "    <tr style=\"text-align: right;\">\n",
       "      <th></th>\n",
       "      <th>price</th>\n",
       "      <th>mileage_km</th>\n",
       "      <th>horse_power_ps</th>\n",
       "      <th>prior_owners</th>\n",
       "      <th>cylinder_capacity</th>\n",
       "      <th>emissions</th>\n",
       "      <th>avg_fuel_cons</th>\n",
       "      <th>fuel_cons_city</th>\n",
       "      <th>fuel_cons_highway</th>\n",
       "      <th>car_age</th>\n",
       "    </tr>\n",
       "  </thead>\n",
       "  <tbody>\n",
       "    <tr>\n",
       "      <th>count</th>\n",
       "      <td>517.000000</td>\n",
       "      <td>517.000000</td>\n",
       "      <td>517.000000</td>\n",
       "      <td>517.000000</td>\n",
       "      <td>517.000000</td>\n",
       "      <td>517.000000</td>\n",
       "      <td>517.000000</td>\n",
       "      <td>517.000000</td>\n",
       "      <td>517.000000</td>\n",
       "      <td>517.000000</td>\n",
       "    </tr>\n",
       "    <tr>\n",
       "      <th>mean</th>\n",
       "      <td>16614.955513</td>\n",
       "      <td>42135.874275</td>\n",
       "      <td>114.295938</td>\n",
       "      <td>1.189555</td>\n",
       "      <td>1521.100775</td>\n",
       "      <td>116.037402</td>\n",
       "      <td>4.782178</td>\n",
       "      <td>5.887525</td>\n",
       "      <td>4.141188</td>\n",
       "      <td>3.170188</td>\n",
       "    </tr>\n",
       "    <tr>\n",
       "      <th>std</th>\n",
       "      <td>5043.244328</td>\n",
       "      <td>28977.847897</td>\n",
       "      <td>7.699003</td>\n",
       "      <td>0.416295</td>\n",
       "      <td>113.687648</td>\n",
       "      <td>11.219126</td>\n",
       "      <td>0.705762</td>\n",
       "      <td>1.085735</td>\n",
       "      <td>0.490497</td>\n",
       "      <td>1.695959</td>\n",
       "    </tr>\n",
       "    <tr>\n",
       "      <th>min</th>\n",
       "      <td>9260.000000</td>\n",
       "      <td>10.000000</td>\n",
       "      <td>109.000000</td>\n",
       "      <td>1.000000</td>\n",
       "      <td>4.000000</td>\n",
       "      <td>89.000000</td>\n",
       "      <td>3.400000</td>\n",
       "      <td>3.900000</td>\n",
       "      <td>3.000000</td>\n",
       "      <td>0.084873</td>\n",
       "    </tr>\n",
       "    <tr>\n",
       "      <th>25%</th>\n",
       "      <td>13900.000000</td>\n",
       "      <td>20483.000000</td>\n",
       "      <td>109.000000</td>\n",
       "      <td>1.000000</td>\n",
       "      <td>1496.000000</td>\n",
       "      <td>107.000000</td>\n",
       "      <td>4.100000</td>\n",
       "      <td>4.700000</td>\n",
       "      <td>3.600000</td>\n",
       "      <td>2.168378</td>\n",
       "    </tr>\n",
       "    <tr>\n",
       "      <th>50%</th>\n",
       "      <td>15300.000000</td>\n",
       "      <td>37666.000000</td>\n",
       "      <td>109.000000</td>\n",
       "      <td>1.000000</td>\n",
       "      <td>1499.000000</td>\n",
       "      <td>116.000000</td>\n",
       "      <td>5.000000</td>\n",
       "      <td>6.300000</td>\n",
       "      <td>4.200000</td>\n",
       "      <td>3.167693</td>\n",
       "    </tr>\n",
       "    <tr>\n",
       "      <th>75%</th>\n",
       "      <td>17795.000000</td>\n",
       "      <td>58518.000000</td>\n",
       "      <td>116.000000</td>\n",
       "      <td>1.000000</td>\n",
       "      <td>1499.000000</td>\n",
       "      <td>123.000000</td>\n",
       "      <td>5.300000</td>\n",
       "      <td>6.700000</td>\n",
       "      <td>4.500000</td>\n",
       "      <td>3.501711</td>\n",
       "    </tr>\n",
       "    <tr>\n",
       "      <th>max</th>\n",
       "      <td>38797.000000</td>\n",
       "      <td>149840.000000</td>\n",
       "      <td>136.000000</td>\n",
       "      <td>3.000000</td>\n",
       "      <td>1995.000000</td>\n",
       "      <td>140.000000</td>\n",
       "      <td>5.900000</td>\n",
       "      <td>7.500000</td>\n",
       "      <td>5.100000</td>\n",
       "      <td>7.920602</td>\n",
       "    </tr>\n",
       "  </tbody>\n",
       "</table>\n",
       "</div>"
      ],
      "text/plain": [
       "              price     mileage_km  horse_power_ps  prior_owners  \\\n",
       "count    517.000000     517.000000      517.000000    517.000000   \n",
       "mean   16614.955513   42135.874275      114.295938      1.189555   \n",
       "std     5043.244328   28977.847897        7.699003      0.416295   \n",
       "min     9260.000000      10.000000      109.000000      1.000000   \n",
       "25%    13900.000000   20483.000000      109.000000      1.000000   \n",
       "50%    15300.000000   37666.000000      109.000000      1.000000   \n",
       "75%    17795.000000   58518.000000      116.000000      1.000000   \n",
       "max    38797.000000  149840.000000      136.000000      3.000000   \n",
       "\n",
       "       cylinder_capacity   emissions  avg_fuel_cons  fuel_cons_city  \\\n",
       "count         517.000000  517.000000     517.000000      517.000000   \n",
       "mean         1521.100775  116.037402       4.782178        5.887525   \n",
       "std           113.687648   11.219126       0.705762        1.085735   \n",
       "min             4.000000   89.000000       3.400000        3.900000   \n",
       "25%          1496.000000  107.000000       4.100000        4.700000   \n",
       "50%          1499.000000  116.000000       5.000000        6.300000   \n",
       "75%          1499.000000  123.000000       5.300000        6.700000   \n",
       "max          1995.000000  140.000000       5.900000        7.500000   \n",
       "\n",
       "       fuel_cons_highway     car_age  \n",
       "count         517.000000  517.000000  \n",
       "mean            4.141188    3.170188  \n",
       "std             0.490497    1.695959  \n",
       "min             3.000000    0.084873  \n",
       "25%             3.600000    2.168378  \n",
       "50%             4.200000    3.167693  \n",
       "75%             4.500000    3.501711  \n",
       "max             5.100000    7.920602  "
      ]
     },
     "execution_count": 54,
     "metadata": {},
     "output_type": "execute_result"
    }
   ],
   "source": [
    "df_filtered.describe()"
   ]
  },
  {
   "cell_type": "markdown",
   "metadata": {},
   "source": [
    "**Insight:** There seems to be an outlier with regards to cylinder_capacity (minimum value is much lower than quartiles)."
   ]
  },
  {
   "cell_type": "code",
   "execution_count": 55,
   "metadata": {},
   "outputs": [
    {
     "data": {
      "text/plain": [
       "(array([  1.,   0.,   0.,   0.,   0.,   0.,   0.,   0.,   0.,   0.,   0.,\n",
       "          0.,   0.,   0.,   0.,   0.,   0.,   0., 447.,   1.,  51.,   0.,\n",
       "          0.,   0.,  17.]),\n",
       " array([   4.  ,   83.64,  163.28,  242.92,  322.56,  402.2 ,  481.84,\n",
       "         561.48,  641.12,  720.76,  800.4 ,  880.04,  959.68, 1039.32,\n",
       "        1118.96, 1198.6 , 1278.24, 1357.88, 1437.52, 1517.16, 1596.8 ,\n",
       "        1676.44, 1756.08, 1835.72, 1915.36, 1995.  ]),\n",
       " <BarContainer object of 25 artists>)"
      ]
     },
     "execution_count": 55,
     "metadata": {},
     "output_type": "execute_result"
    },
    {
     "data": {
      "image/png": "[encoded data removed]",
      "text/plain": [
       "<Figure size 432x288 with 1 Axes>"
      ]
     },
     "metadata": {
      "needs_background": "light"
     },
     "output_type": "display_data"
    }
   ],
   "source": [
    "plt.hist(df_filtered.cylinder_capacity, 25)"
   ]
  },
  {
   "cell_type": "code",
   "execution_count": 56,
   "metadata": {},
   "outputs": [
    {
     "data": {
      "text/plain": [
       "307    4.0\n",
       "Name: cylinder_capacity, dtype: float64"
      ]
     },
     "execution_count": 56,
     "metadata": {},
     "output_type": "execute_result"
    }
   ],
   "source": [
    "# FYI: Identify observations that seem to be outliers with regards to the feature in question\n",
    "df_filtered.loc[df_filtered.cylinder_capacity <=1000, 'cylinder_capacity']"
   ]
  },
  {
   "cell_type": "code",
   "execution_count": 57,
   "metadata": {},
   "outputs": [],
   "source": [
    "# Replacement value is average cylinder capacity excluding outliers\n",
    "replacement_cylinder_capacity = df_filtered.loc[df_filtered.cylinder_capacity >=1000, 'cylinder_capacity'].mean()"
   ]
  },
  {
   "cell_type": "code",
   "execution_count": 58,
   "metadata": {},
   "outputs": [],
   "source": [
    "df_filtered.loc[df_filtered.cylinder_capacity <=1000, 'df_filtered.cylinder_capacity'] = replacement_cylinder_capacity"
   ]
  },
  {
   "cell_type": "markdown",
   "metadata": {},
   "source": [
    "### Summary of data cleansing"
   ]
  },
  {
   "cell_type": "markdown",
   "metadata": {},
   "source": [
    "**Pickle the cleansed dataframe for the linear regression**. The cleansed dataset for the linear regression model contains the original variables that were scrapped and cleansed (replace missing values, transform into appropriate format) except for:\n",
    "\n",
    "  * **Removed** variable **colour** since there is no naming convention\n",
    "  \n",
    "  * **Removed** variable next inspection due date due to too many missing values\n",
    "  \n",
    "  * **Replaced** variable **registration date** with **car age**\n",
    "  \n",
    "  * **Remove** variable **environmental_certificate** since this model always has the same "
   ]
  },
  {
   "cell_type": "markdown",
   "metadata": {},
   "source": [
    "*Note: In a textbook solution, the replacement of missing values with means or modes would be performed in the train, validation and test datasets separately in order to avoid data leakage. However, in this case, the risk of data leakage distorting the model appears low - thus, in oder to keep the notebook readable, this is done in one step.*"
   ]
  },
  {
   "cell_type": "code",
   "execution_count": 59,
   "metadata": {},
   "outputs": [
    {
     "data": {
      "text/html": [
       "<div>\n",
       "<style scoped>\n",
       "    .dataframe tbody tr th:only-of-type {\n",
       "        vertical-align: middle;\n",
       "    }\n",
       "\n",
       "    .dataframe tbody tr th {\n",
       "        vertical-align: top;\n",
       "    }\n",
       "\n",
       "    .dataframe thead th {\n",
       "        text-align: right;\n",
       "    }\n",
       "</style>\n",
       "<table border=\"1\" class=\"dataframe\">\n",
       "  <thead>\n",
       "    <tr style=\"text-align: right;\">\n",
       "      <th></th>\n",
       "      <th>index</th>\n",
       "      <th>price</th>\n",
       "      <th>mileage_km</th>\n",
       "      <th>horse_power_ps</th>\n",
       "      <th>car_age</th>\n",
       "      <th>doors_number</th>\n",
       "      <th>gears_type</th>\n",
       "      <th>prior_owners</th>\n",
       "      <th>cylinder_capacity</th>\n",
       "      <th>aircon</th>\n",
       "      <th>fuel_type</th>\n",
       "      <th>emission_class</th>\n",
       "      <th>emissions</th>\n",
       "      <th>avg_fuel_cons</th>\n",
       "      <th>fuel_cons_city</th>\n",
       "      <th>fuel_cons_highway</th>\n",
       "    </tr>\n",
       "  </thead>\n",
       "  <tbody>\n",
       "    <tr>\n",
       "      <th>0</th>\n",
       "      <td>0</td>\n",
       "      <td>9260</td>\n",
       "      <td>123787</td>\n",
       "      <td>116</td>\n",
       "      <td>6.754278</td>\n",
       "      <td>5</td>\n",
       "      <td>Schaltgetriebe</td>\n",
       "      <td>1.0</td>\n",
       "      <td>1995.0</td>\n",
       "      <td>Klimaanlage</td>\n",
       "      <td>Diesel</td>\n",
       "      <td>Euro5</td>\n",
       "      <td>109.0</td>\n",
       "      <td>4.1</td>\n",
       "      <td>5.1</td>\n",
       "      <td>3.6</td>\n",
       "    </tr>\n",
       "    <tr>\n",
       "      <th>1</th>\n",
       "      <td>1</td>\n",
       "      <td>9395</td>\n",
       "      <td>127400</td>\n",
       "      <td>116</td>\n",
       "      <td>6.502396</td>\n",
       "      <td>3</td>\n",
       "      <td>Schaltgetriebe</td>\n",
       "      <td>2.0</td>\n",
       "      <td>1995.0</td>\n",
       "      <td>Klimaautomatik</td>\n",
       "      <td>Diesel</td>\n",
       "      <td>Euro5</td>\n",
       "      <td>114.0</td>\n",
       "      <td>4.3</td>\n",
       "      <td>5.3</td>\n",
       "      <td>3.8</td>\n",
       "    </tr>\n",
       "    <tr>\n",
       "      <th>2</th>\n",
       "      <td>2</td>\n",
       "      <td>9480</td>\n",
       "      <td>131255</td>\n",
       "      <td>136</td>\n",
       "      <td>7.668720</td>\n",
       "      <td>5</td>\n",
       "      <td>Automatik</td>\n",
       "      <td>1.0</td>\n",
       "      <td>1598.0</td>\n",
       "      <td>Klimaanlage</td>\n",
       "      <td>Benzin</td>\n",
       "      <td>Euro5</td>\n",
       "      <td>131.0</td>\n",
       "      <td>5.6</td>\n",
       "      <td>7.2</td>\n",
       "      <td>4.7</td>\n",
       "    </tr>\n",
       "    <tr>\n",
       "      <th>3</th>\n",
       "      <td>3</td>\n",
       "      <td>9580</td>\n",
       "      <td>111655</td>\n",
       "      <td>116</td>\n",
       "      <td>5.418207</td>\n",
       "      <td>5</td>\n",
       "      <td>Schaltgetriebe</td>\n",
       "      <td>3.0</td>\n",
       "      <td>1995.0</td>\n",
       "      <td>Klimaanlage</td>\n",
       "      <td>Diesel</td>\n",
       "      <td>Euro5</td>\n",
       "      <td>114.0</td>\n",
       "      <td>4.3</td>\n",
       "      <td>5.3</td>\n",
       "      <td>3.8</td>\n",
       "    </tr>\n",
       "    <tr>\n",
       "      <th>4</th>\n",
       "      <td>4</td>\n",
       "      <td>9850</td>\n",
       "      <td>75450</td>\n",
       "      <td>136</td>\n",
       "      <td>7.668720</td>\n",
       "      <td>5</td>\n",
       "      <td>Schaltgetriebe</td>\n",
       "      <td>3.0</td>\n",
       "      <td>1598.0</td>\n",
       "      <td>Klimaanlage</td>\n",
       "      <td>Benzin</td>\n",
       "      <td>Euro5</td>\n",
       "      <td>129.0</td>\n",
       "      <td>5.5</td>\n",
       "      <td>7.1</td>\n",
       "      <td>4.6</td>\n",
       "    </tr>\n",
       "    <tr>\n",
       "      <th>5</th>\n",
       "      <td>5</td>\n",
       "      <td>9860</td>\n",
       "      <td>98000</td>\n",
       "      <td>136</td>\n",
       "      <td>7.668720</td>\n",
       "      <td>5</td>\n",
       "      <td>Schaltgetriebe</td>\n",
       "      <td>2.0</td>\n",
       "      <td>1598.0</td>\n",
       "      <td>Klimaanlage</td>\n",
       "      <td>Benzin</td>\n",
       "      <td>Euro5</td>\n",
       "      <td>125.0</td>\n",
       "      <td>5.4</td>\n",
       "      <td>7.0</td>\n",
       "      <td>4.5</td>\n",
       "    </tr>\n",
       "    <tr>\n",
       "      <th>6</th>\n",
       "      <td>6</td>\n",
       "      <td>9920</td>\n",
       "      <td>100000</td>\n",
       "      <td>136</td>\n",
       "      <td>6.836413</td>\n",
       "      <td>3</td>\n",
       "      <td>Schaltgetriebe</td>\n",
       "      <td>1.0</td>\n",
       "      <td>1598.0</td>\n",
       "      <td>Klimaanlage</td>\n",
       "      <td>Benzin</td>\n",
       "      <td>Euro6</td>\n",
       "      <td>125.0</td>\n",
       "      <td>5.5</td>\n",
       "      <td>7.2</td>\n",
       "      <td>4.6</td>\n",
       "    </tr>\n",
       "    <tr>\n",
       "      <th>7</th>\n",
       "      <td>7</td>\n",
       "      <td>9920</td>\n",
       "      <td>94635</td>\n",
       "      <td>136</td>\n",
       "      <td>7.586585</td>\n",
       "      <td>5</td>\n",
       "      <td>Schaltgetriebe</td>\n",
       "      <td>1.0</td>\n",
       "      <td>1598.0</td>\n",
       "      <td>Klimaanlage</td>\n",
       "      <td>Benzin</td>\n",
       "      <td>Euro5</td>\n",
       "      <td>130.0</td>\n",
       "      <td>5.5</td>\n",
       "      <td>7.1</td>\n",
       "      <td>4.6</td>\n",
       "    </tr>\n",
       "    <tr>\n",
       "      <th>8</th>\n",
       "      <td>8</td>\n",
       "      <td>9960</td>\n",
       "      <td>82000</td>\n",
       "      <td>116</td>\n",
       "      <td>7.249829</td>\n",
       "      <td>5</td>\n",
       "      <td>Schaltgetriebe</td>\n",
       "      <td>1.0</td>\n",
       "      <td>1598.0</td>\n",
       "      <td>Klimaanlage</td>\n",
       "      <td>Diesel</td>\n",
       "      <td>Euro5</td>\n",
       "      <td>99.0</td>\n",
       "      <td>3.8</td>\n",
       "      <td>4.4</td>\n",
       "      <td>3.4</td>\n",
       "    </tr>\n",
       "    <tr>\n",
       "      <th>9</th>\n",
       "      <td>9</td>\n",
       "      <td>9980</td>\n",
       "      <td>81664</td>\n",
       "      <td>136</td>\n",
       "      <td>7.920602</td>\n",
       "      <td>5</td>\n",
       "      <td>Schaltgetriebe</td>\n",
       "      <td>1.0</td>\n",
       "      <td>1598.0</td>\n",
       "      <td>Klimaautomatik</td>\n",
       "      <td>Benzin</td>\n",
       "      <td>Euro5</td>\n",
       "      <td>129.0</td>\n",
       "      <td>5.5</td>\n",
       "      <td>7.1</td>\n",
       "      <td>4.6</td>\n",
       "    </tr>\n",
       "  </tbody>\n",
       "</table>\n",
       "</div>"
      ],
      "text/plain": [
       "   index  price  mileage_km  horse_power_ps   car_age doors_number  \\\n",
       "0      0   9260      123787             116  6.754278            5   \n",
       "1      1   9395      127400             116  6.502396            3   \n",
       "2      2   9480      131255             136  7.668720            5   \n",
       "3      3   9580      111655             116  5.418207            5   \n",
       "4      4   9850       75450             136  7.668720            5   \n",
       "5      5   9860       98000             136  7.668720            5   \n",
       "6      6   9920      100000             136  6.836413            3   \n",
       "7      7   9920       94635             136  7.586585            5   \n",
       "8      8   9960       82000             116  7.249829            5   \n",
       "9      9   9980       81664             136  7.920602            5   \n",
       "\n",
       "       gears_type  prior_owners  cylinder_capacity          aircon fuel_type  \\\n",
       "0  Schaltgetriebe           1.0             1995.0     Klimaanlage    Diesel   \n",
       "1  Schaltgetriebe           2.0             1995.0  Klimaautomatik    Diesel   \n",
       "2       Automatik           1.0             1598.0     Klimaanlage    Benzin   \n",
       "3  Schaltgetriebe           3.0             1995.0     Klimaanlage    Diesel   \n",
       "4  Schaltgetriebe           3.0             1598.0     Klimaanlage    Benzin   \n",
       "5  Schaltgetriebe           2.0             1598.0     Klimaanlage    Benzin   \n",
       "6  Schaltgetriebe           1.0             1598.0     Klimaanlage    Benzin   \n",
       "7  Schaltgetriebe           1.0             1598.0     Klimaanlage    Benzin   \n",
       "8  Schaltgetriebe           1.0             1598.0     Klimaanlage    Diesel   \n",
       "9  Schaltgetriebe           1.0             1598.0  Klimaautomatik    Benzin   \n",
       "\n",
       "  emission_class  emissions  avg_fuel_cons  fuel_cons_city  fuel_cons_highway  \n",
       "0          Euro5      109.0            4.1             5.1                3.6  \n",
       "1          Euro5      114.0            4.3             5.3                3.8  \n",
       "2          Euro5      131.0            5.6             7.2                4.7  \n",
       "3          Euro5      114.0            4.3             5.3                3.8  \n",
       "4          Euro5      129.0            5.5             7.1                4.6  \n",
       "5          Euro5      125.0            5.4             7.0                4.5  \n",
       "6          Euro6      125.0            5.5             7.2                4.6  \n",
       "7          Euro5      130.0            5.5             7.1                4.6  \n",
       "8          Euro5       99.0            3.8             4.4                3.4  \n",
       "9          Euro5      129.0            5.5             7.1                4.6  "
      ]
     },
     "execution_count": 59,
     "metadata": {},
     "output_type": "execute_result"
    }
   ],
   "source": [
    "df_lrm_BMW116 = copy.deepcopy(df_filtered.loc[:,['price', 'mileage_km',\n",
    "       'horse_power_ps', 'car_age', 'doors_number',\n",
    "       'gears_type', 'prior_owners', 'cylinder_capacity', 'aircon',\n",
    "       'fuel_type', 'emission_class', 'emissions',\n",
    "       'avg_fuel_cons', 'fuel_cons_city', 'fuel_cons_highway']]).reset_index()\n",
    "df_lrm_BMW116.head(10)"
   ]
  },
  {
   "cell_type": "code",
   "execution_count": 60,
   "metadata": {},
   "outputs": [
    {
     "name": "stdout",
     "output_type": "stream",
     "text": [
      "<class 'pandas.core.frame.DataFrame'>\n",
      "RangeIndex: 517 entries, 0 to 516\n",
      "Data columns (total 16 columns):\n",
      " #   Column             Non-Null Count  Dtype  \n",
      "---  ------             --------------  -----  \n",
      " 0   index              517 non-null    int64  \n",
      " 1   price              517 non-null    int64  \n",
      " 2   mileage_km         517 non-null    int64  \n",
      " 3   horse_power_ps     517 non-null    int64  \n",
      " 4   car_age            517 non-null    float64\n",
      " 5   doors_number       517 non-null    object \n",
      " 6   gears_type         517 non-null    object \n",
      " 7   prior_owners       517 non-null    float64\n",
      " 8   cylinder_capacity  517 non-null    float64\n",
      " 9   aircon             517 non-null    object \n",
      " 10  fuel_type          517 non-null    object \n",
      " 11  emission_class     517 non-null    object \n",
      " 12  emissions          517 non-null    float64\n",
      " 13  avg_fuel_cons      517 non-null    float64\n",
      " 14  fuel_cons_city     517 non-null    float64\n",
      " 15  fuel_cons_highway  517 non-null    float64\n",
      "dtypes: float64(7), int64(4), object(5)\n",
      "memory usage: 64.8+ KB\n"
     ]
    }
   ],
   "source": [
    "df_lrm_BMW116.info()"
   ]
  },
  {
   "cell_type": "code",
   "execution_count": 63,
   "metadata": {},
   "outputs": [],
   "source": [
    "del df_lrm_BMW116['index']"
   ]
  },
  {
   "cell_type": "code",
   "execution_count": 64,
   "metadata": {},
   "outputs": [],
   "source": [
    "with open('pickles/df_lrm_BMW116.pkl', 'wb') as f:\n",
    "    pickle.dump(df_lrm_BMW116, f)"
   ]
  }
 ],
 "metadata": {
  "kernelspec": {
   "display_name": "Python 3",
   "language": "python",
   "name": "python3"
  },
  "language_info": {
   "codemirror_mode": {
    "name": "ipython",
    "version": 3
   },
   "file_extension": ".py",
   "mimetype": "text/x-python",
   "name": "python",
   "nbconvert_exporter": "python",
   "pygments_lexer": "ipython3",
   "version": "3.8.5"
  },
  "toc": {
   "base_numbering": "2",
   "nav_menu": {},
   "number_sections": true,
   "sideBar": true,
   "skip_h1_title": true,
   "title_cell": "Table of Contents",
   "title_sidebar": "Contents",
   "toc_cell": false,
   "toc_position": {},
   "toc_section_display": true,
   "toc_window_display": true
  }
 },
 "nbformat": 4,
 "nbformat_minor": 2
}
